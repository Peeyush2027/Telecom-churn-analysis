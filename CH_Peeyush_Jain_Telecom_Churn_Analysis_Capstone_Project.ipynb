{
  "nbformat": 4,
  "nbformat_minor": 0,
  "metadata": {
    "kernelspec": {
      "display_name": "Python 3",
      "language": "python",
      "name": "python3"
    },
    "language_info": {
      "codemirror_mode": {
        "name": "ipython",
        "version": 3
      },
      "file_extension": ".py",
      "mimetype": "text/x-python",
      "name": "python",
      "nbconvert_exporter": "python",
      "pygments_lexer": "ipython3",
      "version": "3.6.6"
    },
    "colab": {
      "name": "CH-Peeyush Jain- Telecom Churn Analysis - Capstone Project.ipynb",
      "provenance": [],
      "collapsed_sections": [],
      "include_colab_link": true
    }
  },
  "cells": [
    {
      "cell_type": "markdown",
      "metadata": {
        "id": "view-in-github",
        "colab_type": "text"
      },
      "source": [
        "<a href=\"https://colab.research.google.com/github/Peeyush2027/Telecom-churn-analysis/blob/main/CH_Peeyush_Jain_Telecom_Churn_Analysis_Capstone_Project.ipynb\" target=\"_parent\"><img src=\"https://colab.research.google.com/assets/colab-badge.svg\" alt=\"Open In Colab\"/></a>"
      ]
    },
    {
      "cell_type": "markdown",
      "metadata": {
        "id": "Y06xIdG26kRF"
      },
      "source": [
        "## <b> Orange S.A., formerly France Télécom S.A., is a French multinational telecommunications corporation. The Orange Telecom's Churn Dataset, consists of cleaned customer activity data (features), along with a churn label specifying whether a customer canceled the subscription.\n",
        "\n",
        "## <b> Explore and analyze the data to discover key factors responsible for customer churn and come up with ways/recommendations to ensure customer retention. </b>"
      ]
    },
    {
      "cell_type": "code",
      "metadata": {
        "id": "dByMsuzT8Tnw"
      },
      "source": [
        "#Import package\n",
        "import pandas as pd\n",
        "import numpy as np\n",
        "import matplotlib.pyplot as plt\n",
        "%matplotlib inline"
      ],
      "execution_count": 2,
      "outputs": []
    },
    {
      "cell_type": "code",
      "metadata": {
        "colab": {
          "base_uri": "https://localhost:8080/"
        },
        "id": "XarWRyXFI2Y3",
        "outputId": "907883f6-858e-4978-8fcd-34d2e886cf4d"
      },
      "source": [
        "from google.colab import drive\n",
        "drive.mount('/content/drive')"
      ],
      "execution_count": 4,
      "outputs": [
        {
          "output_type": "stream",
          "text": [
            "Drive already mounted at /content/drive; to attempt to forcibly remount, call drive.mount(\"/content/drive\", force_remount=True).\n"
          ],
          "name": "stdout"
        }
      ]
    },
    {
      "cell_type": "code",
      "metadata": {
        "id": "RG2WH0HdI4CU"
      },
      "source": [
        "file_path='/content/drive/MyDrive/Almabetter assignments/Module 1- Python/Capstone Project/Capstone project-1 ( Telecom )/Copy of Telecom Churn.csv'\n",
        "df=pd.read_csv(file_path)"
      ],
      "execution_count": 5,
      "outputs": []
    },
    {
      "cell_type": "code",
      "metadata": {
        "colab": {
          "base_uri": "https://localhost:8080/",
          "height": 235
        },
        "id": "Pt4TMG4LKITq",
        "outputId": "57704342-b967-4a9a-bba7-ab390532fdb7"
      },
      "source": [
        "df.head()"
      ],
      "execution_count": 6,
      "outputs": [
        {
          "output_type": "execute_result",
          "data": {
            "text/html": [
              "<div>\n",
              "<style scoped>\n",
              "    .dataframe tbody tr th:only-of-type {\n",
              "        vertical-align: middle;\n",
              "    }\n",
              "\n",
              "    .dataframe tbody tr th {\n",
              "        vertical-align: top;\n",
              "    }\n",
              "\n",
              "    .dataframe thead th {\n",
              "        text-align: right;\n",
              "    }\n",
              "</style>\n",
              "<table border=\"1\" class=\"dataframe\">\n",
              "  <thead>\n",
              "    <tr style=\"text-align: right;\">\n",
              "      <th></th>\n",
              "      <th>State</th>\n",
              "      <th>Account length</th>\n",
              "      <th>Area code</th>\n",
              "      <th>International plan</th>\n",
              "      <th>Voice mail plan</th>\n",
              "      <th>Number vmail messages</th>\n",
              "      <th>Total day minutes</th>\n",
              "      <th>Total day calls</th>\n",
              "      <th>Total day charge</th>\n",
              "      <th>Total eve minutes</th>\n",
              "      <th>Total eve calls</th>\n",
              "      <th>Total eve charge</th>\n",
              "      <th>Total night minutes</th>\n",
              "      <th>Total night calls</th>\n",
              "      <th>Total night charge</th>\n",
              "      <th>Total intl minutes</th>\n",
              "      <th>Total intl calls</th>\n",
              "      <th>Total intl charge</th>\n",
              "      <th>Customer service calls</th>\n",
              "      <th>Churn</th>\n",
              "    </tr>\n",
              "  </thead>\n",
              "  <tbody>\n",
              "    <tr>\n",
              "      <th>0</th>\n",
              "      <td>KS</td>\n",
              "      <td>128</td>\n",
              "      <td>415</td>\n",
              "      <td>No</td>\n",
              "      <td>Yes</td>\n",
              "      <td>25</td>\n",
              "      <td>265.1</td>\n",
              "      <td>110</td>\n",
              "      <td>45.07</td>\n",
              "      <td>197.4</td>\n",
              "      <td>99</td>\n",
              "      <td>16.78</td>\n",
              "      <td>244.7</td>\n",
              "      <td>91</td>\n",
              "      <td>11.01</td>\n",
              "      <td>10.0</td>\n",
              "      <td>3</td>\n",
              "      <td>2.70</td>\n",
              "      <td>1</td>\n",
              "      <td>False</td>\n",
              "    </tr>\n",
              "    <tr>\n",
              "      <th>1</th>\n",
              "      <td>OH</td>\n",
              "      <td>107</td>\n",
              "      <td>415</td>\n",
              "      <td>No</td>\n",
              "      <td>Yes</td>\n",
              "      <td>26</td>\n",
              "      <td>161.6</td>\n",
              "      <td>123</td>\n",
              "      <td>27.47</td>\n",
              "      <td>195.5</td>\n",
              "      <td>103</td>\n",
              "      <td>16.62</td>\n",
              "      <td>254.4</td>\n",
              "      <td>103</td>\n",
              "      <td>11.45</td>\n",
              "      <td>13.7</td>\n",
              "      <td>3</td>\n",
              "      <td>3.70</td>\n",
              "      <td>1</td>\n",
              "      <td>False</td>\n",
              "    </tr>\n",
              "    <tr>\n",
              "      <th>2</th>\n",
              "      <td>NJ</td>\n",
              "      <td>137</td>\n",
              "      <td>415</td>\n",
              "      <td>No</td>\n",
              "      <td>No</td>\n",
              "      <td>0</td>\n",
              "      <td>243.4</td>\n",
              "      <td>114</td>\n",
              "      <td>41.38</td>\n",
              "      <td>121.2</td>\n",
              "      <td>110</td>\n",
              "      <td>10.30</td>\n",
              "      <td>162.6</td>\n",
              "      <td>104</td>\n",
              "      <td>7.32</td>\n",
              "      <td>12.2</td>\n",
              "      <td>5</td>\n",
              "      <td>3.29</td>\n",
              "      <td>0</td>\n",
              "      <td>False</td>\n",
              "    </tr>\n",
              "    <tr>\n",
              "      <th>3</th>\n",
              "      <td>OH</td>\n",
              "      <td>84</td>\n",
              "      <td>408</td>\n",
              "      <td>Yes</td>\n",
              "      <td>No</td>\n",
              "      <td>0</td>\n",
              "      <td>299.4</td>\n",
              "      <td>71</td>\n",
              "      <td>50.90</td>\n",
              "      <td>61.9</td>\n",
              "      <td>88</td>\n",
              "      <td>5.26</td>\n",
              "      <td>196.9</td>\n",
              "      <td>89</td>\n",
              "      <td>8.86</td>\n",
              "      <td>6.6</td>\n",
              "      <td>7</td>\n",
              "      <td>1.78</td>\n",
              "      <td>2</td>\n",
              "      <td>False</td>\n",
              "    </tr>\n",
              "    <tr>\n",
              "      <th>4</th>\n",
              "      <td>OK</td>\n",
              "      <td>75</td>\n",
              "      <td>415</td>\n",
              "      <td>Yes</td>\n",
              "      <td>No</td>\n",
              "      <td>0</td>\n",
              "      <td>166.7</td>\n",
              "      <td>113</td>\n",
              "      <td>28.34</td>\n",
              "      <td>148.3</td>\n",
              "      <td>122</td>\n",
              "      <td>12.61</td>\n",
              "      <td>186.9</td>\n",
              "      <td>121</td>\n",
              "      <td>8.41</td>\n",
              "      <td>10.1</td>\n",
              "      <td>3</td>\n",
              "      <td>2.73</td>\n",
              "      <td>3</td>\n",
              "      <td>False</td>\n",
              "    </tr>\n",
              "  </tbody>\n",
              "</table>\n",
              "</div>"
            ],
            "text/plain": [
              "  State  Account length  ...  Customer service calls  Churn\n",
              "0    KS             128  ...                       1  False\n",
              "1    OH             107  ...                       1  False\n",
              "2    NJ             137  ...                       0  False\n",
              "3    OH              84  ...                       2  False\n",
              "4    OK              75  ...                       3  False\n",
              "\n",
              "[5 rows x 20 columns]"
            ]
          },
          "metadata": {
            "tags": []
          },
          "execution_count": 6
        }
      ]
    },
    {
      "cell_type": "code",
      "metadata": {
        "colab": {
          "base_uri": "https://localhost:8080/"
        },
        "id": "C2ST0f-RQWL0",
        "outputId": "6c909880-ba07-45f9-bbc2-c1e4f27698c3"
      },
      "source": [
        "df.info()"
      ],
      "execution_count": 7,
      "outputs": [
        {
          "output_type": "stream",
          "text": [
            "<class 'pandas.core.frame.DataFrame'>\n",
            "RangeIndex: 3333 entries, 0 to 3332\n",
            "Data columns (total 20 columns):\n",
            " #   Column                  Non-Null Count  Dtype  \n",
            "---  ------                  --------------  -----  \n",
            " 0   State                   3333 non-null   object \n",
            " 1   Account length          3333 non-null   int64  \n",
            " 2   Area code               3333 non-null   int64  \n",
            " 3   International plan      3333 non-null   object \n",
            " 4   Voice mail plan         3333 non-null   object \n",
            " 5   Number vmail messages   3333 non-null   int64  \n",
            " 6   Total day minutes       3333 non-null   float64\n",
            " 7   Total day calls         3333 non-null   int64  \n",
            " 8   Total day charge        3333 non-null   float64\n",
            " 9   Total eve minutes       3333 non-null   float64\n",
            " 10  Total eve calls         3333 non-null   int64  \n",
            " 11  Total eve charge        3333 non-null   float64\n",
            " 12  Total night minutes     3333 non-null   float64\n",
            " 13  Total night calls       3333 non-null   int64  \n",
            " 14  Total night charge      3333 non-null   float64\n",
            " 15  Total intl minutes      3333 non-null   float64\n",
            " 16  Total intl calls        3333 non-null   int64  \n",
            " 17  Total intl charge       3333 non-null   float64\n",
            " 18  Customer service calls  3333 non-null   int64  \n",
            " 19  Churn                   3333 non-null   bool   \n",
            "dtypes: bool(1), float64(8), int64(8), object(3)\n",
            "memory usage: 498.1+ KB\n"
          ],
          "name": "stdout"
        }
      ]
    },
    {
      "cell_type": "code",
      "metadata": {
        "id": "0tAT28HVPWYC"
      },
      "source": [
        "df1= df[['Churn','State','Account length','Area code','International plan','Number vmail messages','Total night minutes','Total night calls','Total night charge','Customer service calls']]"
      ],
      "execution_count": 8,
      "outputs": []
    },
    {
      "cell_type": "code",
      "metadata": {
        "id": "3tm6mv5mRMjt"
      },
      "source": [
        "df2= pd.DataFrame(df1.groupby(['Churn','State'])['Customer service calls'].sum())"
      ],
      "execution_count": 9,
      "outputs": []
    },
    {
      "cell_type": "code",
      "metadata": {
        "colab": {
          "base_uri": "https://localhost:8080/",
          "height": 191
        },
        "id": "Wge-PJRRRx7U",
        "outputId": "e2dd6908-3297-4238-99df-9576df354847"
      },
      "source": [
        "# State wise distribution of customer service calls for true & false churn\n",
        "\n",
        "df2 = pd.DataFrame(df2.unstack())\n",
        "df2"
      ],
      "execution_count": 10,
      "outputs": [
        {
          "output_type": "execute_result",
          "data": {
            "text/html": [
              "<div>\n",
              "<style scoped>\n",
              "    .dataframe tbody tr th:only-of-type {\n",
              "        vertical-align: middle;\n",
              "    }\n",
              "\n",
              "    .dataframe tbody tr th {\n",
              "        vertical-align: top;\n",
              "    }\n",
              "\n",
              "    .dataframe thead tr th {\n",
              "        text-align: left;\n",
              "    }\n",
              "\n",
              "    .dataframe thead tr:last-of-type th {\n",
              "        text-align: right;\n",
              "    }\n",
              "</style>\n",
              "<table border=\"1\" class=\"dataframe\">\n",
              "  <thead>\n",
              "    <tr>\n",
              "      <th></th>\n",
              "      <th colspan=\"51\" halign=\"left\">Customer service calls</th>\n",
              "    </tr>\n",
              "    <tr>\n",
              "      <th>State</th>\n",
              "      <th>AK</th>\n",
              "      <th>AL</th>\n",
              "      <th>AR</th>\n",
              "      <th>AZ</th>\n",
              "      <th>CA</th>\n",
              "      <th>CO</th>\n",
              "      <th>CT</th>\n",
              "      <th>DC</th>\n",
              "      <th>DE</th>\n",
              "      <th>FL</th>\n",
              "      <th>GA</th>\n",
              "      <th>HI</th>\n",
              "      <th>IA</th>\n",
              "      <th>ID</th>\n",
              "      <th>IL</th>\n",
              "      <th>IN</th>\n",
              "      <th>KS</th>\n",
              "      <th>KY</th>\n",
              "      <th>LA</th>\n",
              "      <th>MA</th>\n",
              "      <th>MD</th>\n",
              "      <th>ME</th>\n",
              "      <th>MI</th>\n",
              "      <th>MN</th>\n",
              "      <th>MO</th>\n",
              "      <th>MS</th>\n",
              "      <th>MT</th>\n",
              "      <th>NC</th>\n",
              "      <th>ND</th>\n",
              "      <th>NE</th>\n",
              "      <th>NH</th>\n",
              "      <th>NJ</th>\n",
              "      <th>NM</th>\n",
              "      <th>NV</th>\n",
              "      <th>NY</th>\n",
              "      <th>OH</th>\n",
              "      <th>OK</th>\n",
              "      <th>OR</th>\n",
              "      <th>PA</th>\n",
              "      <th>RI</th>\n",
              "      <th>SC</th>\n",
              "      <th>SD</th>\n",
              "      <th>TN</th>\n",
              "      <th>TX</th>\n",
              "      <th>UT</th>\n",
              "      <th>VA</th>\n",
              "      <th>VT</th>\n",
              "      <th>WA</th>\n",
              "      <th>WI</th>\n",
              "      <th>WV</th>\n",
              "      <th>WY</th>\n",
              "    </tr>\n",
              "    <tr>\n",
              "      <th>Churn</th>\n",
              "      <th></th>\n",
              "      <th></th>\n",
              "      <th></th>\n",
              "      <th></th>\n",
              "      <th></th>\n",
              "      <th></th>\n",
              "      <th></th>\n",
              "      <th></th>\n",
              "      <th></th>\n",
              "      <th></th>\n",
              "      <th></th>\n",
              "      <th></th>\n",
              "      <th></th>\n",
              "      <th></th>\n",
              "      <th></th>\n",
              "      <th></th>\n",
              "      <th></th>\n",
              "      <th></th>\n",
              "      <th></th>\n",
              "      <th></th>\n",
              "      <th></th>\n",
              "      <th></th>\n",
              "      <th></th>\n",
              "      <th></th>\n",
              "      <th></th>\n",
              "      <th></th>\n",
              "      <th></th>\n",
              "      <th></th>\n",
              "      <th></th>\n",
              "      <th></th>\n",
              "      <th></th>\n",
              "      <th></th>\n",
              "      <th></th>\n",
              "      <th></th>\n",
              "      <th></th>\n",
              "      <th></th>\n",
              "      <th></th>\n",
              "      <th></th>\n",
              "      <th></th>\n",
              "      <th></th>\n",
              "      <th></th>\n",
              "      <th></th>\n",
              "      <th></th>\n",
              "      <th></th>\n",
              "      <th></th>\n",
              "      <th></th>\n",
              "      <th></th>\n",
              "      <th></th>\n",
              "      <th></th>\n",
              "      <th></th>\n",
              "      <th></th>\n",
              "    </tr>\n",
              "  </thead>\n",
              "  <tbody>\n",
              "    <tr>\n",
              "      <th>False</th>\n",
              "      <td>71</td>\n",
              "      <td>101</td>\n",
              "      <td>67</td>\n",
              "      <td>93</td>\n",
              "      <td>34</td>\n",
              "      <td>95</td>\n",
              "      <td>95</td>\n",
              "      <td>64</td>\n",
              "      <td>86</td>\n",
              "      <td>82</td>\n",
              "      <td>86</td>\n",
              "      <td>73</td>\n",
              "      <td>61</td>\n",
              "      <td>95</td>\n",
              "      <td>60</td>\n",
              "      <td>92</td>\n",
              "      <td>75</td>\n",
              "      <td>77</td>\n",
              "      <td>71</td>\n",
              "      <td>64</td>\n",
              "      <td>81</td>\n",
              "      <td>82</td>\n",
              "      <td>80</td>\n",
              "      <td>89</td>\n",
              "      <td>79</td>\n",
              "      <td>78</td>\n",
              "      <td>75</td>\n",
              "      <td>81</td>\n",
              "      <td>81</td>\n",
              "      <td>83</td>\n",
              "      <td>58</td>\n",
              "      <td>75</td>\n",
              "      <td>84</td>\n",
              "      <td>75</td>\n",
              "      <td>102</td>\n",
              "      <td>96</td>\n",
              "      <td>94</td>\n",
              "      <td>109</td>\n",
              "      <td>42</td>\n",
              "      <td>80</td>\n",
              "      <td>66</td>\n",
              "      <td>72</td>\n",
              "      <td>55</td>\n",
              "      <td>86</td>\n",
              "      <td>73</td>\n",
              "      <td>115</td>\n",
              "      <td>104</td>\n",
              "      <td>72</td>\n",
              "      <td>98</td>\n",
              "      <td>131</td>\n",
              "      <td>94</td>\n",
              "    </tr>\n",
              "    <tr>\n",
              "      <th>True</th>\n",
              "      <td>10</td>\n",
              "      <td>24</td>\n",
              "      <td>42</td>\n",
              "      <td>9</td>\n",
              "      <td>16</td>\n",
              "      <td>23</td>\n",
              "      <td>17</td>\n",
              "      <td>9</td>\n",
              "      <td>13</td>\n",
              "      <td>17</td>\n",
              "      <td>18</td>\n",
              "      <td>9</td>\n",
              "      <td>9</td>\n",
              "      <td>27</td>\n",
              "      <td>6</td>\n",
              "      <td>28</td>\n",
              "      <td>22</td>\n",
              "      <td>24</td>\n",
              "      <td>9</td>\n",
              "      <td>15</td>\n",
              "      <td>38</td>\n",
              "      <td>26</td>\n",
              "      <td>39</td>\n",
              "      <td>41</td>\n",
              "      <td>19</td>\n",
              "      <td>32</td>\n",
              "      <td>36</td>\n",
              "      <td>25</td>\n",
              "      <td>9</td>\n",
              "      <td>6</td>\n",
              "      <td>27</td>\n",
              "      <td>39</td>\n",
              "      <td>15</td>\n",
              "      <td>30</td>\n",
              "      <td>40</td>\n",
              "      <td>10</td>\n",
              "      <td>15</td>\n",
              "      <td>26</td>\n",
              "      <td>15</td>\n",
              "      <td>12</td>\n",
              "      <td>29</td>\n",
              "      <td>12</td>\n",
              "      <td>15</td>\n",
              "      <td>30</td>\n",
              "      <td>26</td>\n",
              "      <td>8</td>\n",
              "      <td>23</td>\n",
              "      <td>29</td>\n",
              "      <td>13</td>\n",
              "      <td>28</td>\n",
              "      <td>17</td>\n",
              "    </tr>\n",
              "  </tbody>\n",
              "</table>\n",
              "</div>"
            ],
            "text/plain": [
              "      Customer service calls                       ...                           \n",
              "State                     AK   AL  AR  AZ  CA  CO  ...   VA   VT  WA  WI   WV  WY\n",
              "Churn                                              ...                           \n",
              "False                     71  101  67  93  34  95  ...  115  104  72  98  131  94\n",
              "True                      10   24  42   9  16  23  ...    8   23  29  13   28  17\n",
              "\n",
              "[2 rows x 51 columns]"
            ]
          },
          "metadata": {
            "tags": []
          },
          "execution_count": 10
        }
      ]
    },
    {
      "cell_type": "code",
      "metadata": {
        "colab": {
          "base_uri": "https://localhost:8080/"
        },
        "id": "WHfuwJvEIRoU",
        "outputId": "650087a7-ba95-4a2f-c5aa-46a1a8eda79a"
      },
      "source": [
        "df2.loc[True].sort_values(ascending=False)[:10]"
      ],
      "execution_count": 11,
      "outputs": [
        {
          "output_type": "execute_result",
          "data": {
            "text/plain": [
              "                        State\n",
              "Customer service calls  AR       42\n",
              "                        MN       41\n",
              "                        NY       40\n",
              "                        MI       39\n",
              "                        NJ       39\n",
              "                        MD       38\n",
              "                        MT       36\n",
              "                        MS       32\n",
              "                        TX       30\n",
              "                        NV       30\n",
              "Name: True, dtype: int64"
            ]
          },
          "metadata": {
            "tags": []
          },
          "execution_count": 11
        }
      ]
    },
    {
      "cell_type": "code",
      "metadata": {
        "colab": {
          "base_uri": "https://localhost:8080/",
          "height": 664
        },
        "id": "iC5_35Ie6C8B",
        "outputId": "41f7d719-0b80-4c7a-f008-d7a3575412de"
      },
      "source": [
        "state_true= df2.loc[True]\n",
        "plt.rcParams['figure.figsize'] = (20, 8)\n",
        "state_true.plot(kind='bar')\n",
        "\n",
        "plt.title('Customer service calls')\n",
        "plt.ylabel('Total number of calls')\n",
        "plt.xlabel('Churn-True')"
      ],
      "execution_count": 12,
      "outputs": [
        {
          "output_type": "execute_result",
          "data": {
            "text/plain": [
              "Text(0.5, 0, 'Churn-True')"
            ]
          },
          "metadata": {
            "tags": []
          },
          "execution_count": 12
        },
        {
          "output_type": "display_data",
          "data": {
            "image/png": "[encoded data removed]",
            "text/plain": [
              "<Figure size 1440x576 with 1 Axes>"
            ]
          },
          "metadata": {
            "tags": [],
            "needs_background": "light"
          }
        }
      ]
    },
    {
      "cell_type": "code",
      "metadata": {
        "id": "DJXKUjq_nIzr"
      },
      "source": [
        ""
      ],
      "execution_count": 24,
      "outputs": []
    },
    {
      "cell_type": "code",
      "metadata": {
        "colab": {
          "base_uri": "https://localhost:8080/",
          "height": 158
        },
        "id": "Mo1CvvGDijNR",
        "outputId": "1357131d-a655-4b60-9cb3-6e63e3b15123"
      },
      "source": [
        "# Total customer service calls as per the churning and churning rate:\n",
        "\n",
        "df3 = pd.DataFrame(df.groupby('Churn')['Customer service calls'].sum())\n",
        "\n",
        "churning_rate=(df[df['Churn']==True]['Churn'].count()/df['Churn'].count())*100\n",
        "print('The rate of churning is',churning_rate)\n",
        "df3"
      ],
      "execution_count": 13,
      "outputs": [
        {
          "output_type": "stream",
          "text": [
            "The rate of churning is 14.491449144914492\n"
          ],
          "name": "stdout"
        },
        {
          "output_type": "execute_result",
          "data": {
            "text/html": [
              "<div>\n",
              "<style scoped>\n",
              "    .dataframe tbody tr th:only-of-type {\n",
              "        vertical-align: middle;\n",
              "    }\n",
              "\n",
              "    .dataframe tbody tr th {\n",
              "        vertical-align: top;\n",
              "    }\n",
              "\n",
              "    .dataframe thead th {\n",
              "        text-align: right;\n",
              "    }\n",
              "</style>\n",
              "<table border=\"1\" class=\"dataframe\">\n",
              "  <thead>\n",
              "    <tr style=\"text-align: right;\">\n",
              "      <th></th>\n",
              "      <th>Customer service calls</th>\n",
              "    </tr>\n",
              "    <tr>\n",
              "      <th>Churn</th>\n",
              "      <th></th>\n",
              "    </tr>\n",
              "  </thead>\n",
              "  <tbody>\n",
              "    <tr>\n",
              "      <th>False</th>\n",
              "      <td>4132</td>\n",
              "    </tr>\n",
              "    <tr>\n",
              "      <th>True</th>\n",
              "      <td>1077</td>\n",
              "    </tr>\n",
              "  </tbody>\n",
              "</table>\n",
              "</div>"
            ],
            "text/plain": [
              "       Customer service calls\n",
              "Churn                        \n",
              "False                    4132\n",
              "True                     1077"
            ]
          },
          "metadata": {
            "tags": []
          },
          "execution_count": 13
        }
      ]
    },
    {
      "cell_type": "code",
      "metadata": {
        "colab": {
          "base_uri": "https://localhost:8080/",
          "height": 545
        },
        "id": "3JSaTq20h9ai",
        "outputId": "67930929-4221-4cbf-b138-e95ad6c236a9"
      },
      "source": [
        "df3.plot(kind='bar')\n",
        "\n",
        "plt.title('Customer service calls')\n",
        "plt.ylabel('Total number of calls')\n",
        "plt.xlabel('Churn')"
      ],
      "execution_count": 14,
      "outputs": [
        {
          "output_type": "execute_result",
          "data": {
            "text/plain": [
              "Text(0.5, 0, 'Churn')"
            ]
          },
          "metadata": {
            "tags": []
          },
          "execution_count": 14
        },
        {
          "output_type": "display_data",
          "data": {
            "image/png": "[encoded data removed]",
            "text/plain": [
              "<Figure size 1440x576 with 1 Axes>"
            ]
          },
          "metadata": {
            "tags": [],
            "needs_background": "light"
          }
        }
      ]
    },
    {
      "cell_type": "code",
      "metadata": {
        "colab": {
          "base_uri": "https://localhost:8080/"
        },
        "id": "fLma1G_UaISl",
        "outputId": "34725d48-42d3-4761-830f-c5c82e3ceb33"
      },
      "source": [
        "# Avg. service calls for true and false churning:\n",
        "\n",
        "avg_false_sc = df[df['Churn']==False]['Customer service calls'].sum()/df[df['Churn']==False]['Churn'].count()\n",
        "print('avg. service calls for False churn', avg_false_sc)\n",
        "\n",
        "avg_true_sc = df[df['Churn']==True]['Customer service calls'].sum()/df[df['Churn']==True]['Churn'].count()\n",
        "print('avg. service calls for True churn', avg_true_sc)\n",
        "\n",
        "percent_diff = ((avg_true_sc-avg_false_sc)/avg_false_sc)*100\n",
        "print(f'avg service calls in True churning is {round(percent_diff)}% more than false churning')"
      ],
      "execution_count": 15,
      "outputs": [
        {
          "output_type": "stream",
          "text": [
            "avg. service calls for False churn 1.4498245614035088\n",
            "avg. service calls for True churn 2.229813664596273\n",
            "avg service calls in True churning is 54% more than false churning\n"
          ],
          "name": "stdout"
        }
      ]
    },
    {
      "cell_type": "code",
      "metadata": {
        "colab": {
          "base_uri": "https://localhost:8080/"
        },
        "id": "uLBSNecmcUnY",
        "outputId": "846bdc4d-392a-4c9f-c4df-109fd18eaf67"
      },
      "source": [
        "# Avg call length in during night calls: \n",
        "\n",
        "avg_false_call = df[df['Churn']==False]['Total night minutes'].sum()/df[df['Churn']==False]['Total night calls'].sum()\n",
        "print('avg. call length for false', avg_false_call)\n",
        "\n",
        "avg_true_call = df[df['Churn']==True]['Total night minutes'].sum()/df[df['Churn']==True]['Total night calls'].sum()\n",
        "print('avg. call length for true', avg_true_call)\n",
        "\n",
        "# There is no difference\n"
      ],
      "execution_count": 16,
      "outputs": [
        {
          "output_type": "stream",
          "text": [
            "avg. call length for false 2.000166920320094\n",
            "avg. call length for true 2.0441486400098983\n"
          ],
          "name": "stdout"
        }
      ]
    },
    {
      "cell_type": "code",
      "metadata": {
        "colab": {
          "base_uri": "https://localhost:8080/"
        },
        "id": "wp2LtnnQp9Gw",
        "outputId": "f925ccf9-a72d-4d67-e460-14207e424685"
      },
      "source": [
        "# per_min_charge = df[df['Churn']==False]['Total night charge'].sum()/df[df['Churn']==False]['Total night minutes'].sum()\n",
        "# per_min_charge"
      ],
      "execution_count": 178,
      "outputs": [
        {
          "output_type": "execute_result",
          "data": {
            "text/plain": [
              "0.04500039973379132"
            ]
          },
          "metadata": {
            "tags": []
          },
          "execution_count": 178
        }
      ]
    },
    {
      "cell_type": "code",
      "metadata": {
        "colab": {
          "base_uri": "https://localhost:8080/"
        },
        "id": "STXFwKMpp86R",
        "outputId": "2596884d-361c-4f5a-ae43-b89f6f3f077d"
      },
      "source": [
        "# per_min_charge = df[df['Churn']==True]['Total night charge'].sum()/df[df['Churn']==True]['Total night minutes'].sum()\n",
        "# per_min_charge"
      ],
      "execution_count": 179,
      "outputs": [
        {
          "output_type": "execute_result",
          "data": {
            "text/plain": [
              "0.04500049935991139"
            ]
          },
          "metadata": {
            "tags": []
          },
          "execution_count": 179
        }
      ]
    },
    {
      "cell_type": "code",
      "metadata": {
        "id": "jBSqQfYKq-bl"
      },
      "source": [
        "# Avg call length for true and false churning for total minute and total calls done:\n",
        "\n",
        "df4 = df[df['Churn']==True]\n",
        "df5 = df[df['Churn']==False]"
      ],
      "execution_count": 17,
      "outputs": []
    },
    {
      "cell_type": "code",
      "metadata": {
        "colab": {
          "base_uri": "https://localhost:8080/"
        },
        "id": "ecUkPC7eq-YD",
        "outputId": "9632508a-8cb0-486b-9ec9-b808b8a16a29"
      },
      "source": [
        "df4['total_mins']=df4['Total day minutes']+df4['Total eve minutes']+df4['Total night minutes']\n",
        "df4['total_calls']=df4['Total day calls']+df4['Total eve calls']+df4['Total night calls']\n",
        "\n",
        "df5['total_mins']=df5['Total day minutes']+df5['Total eve minutes']+df5['Total night minutes']\n",
        "df5['total_calls']=df5['Total day calls']+df5['Total eve calls']+df5['Total night calls']"
      ],
      "execution_count": 44,
      "outputs": [
        {
          "output_type": "stream",
          "text": [
            "/usr/local/lib/python3.7/dist-packages/ipykernel_launcher.py:1: SettingWithCopyWarning: \n",
            "A value is trying to be set on a copy of a slice from a DataFrame.\n",
            "Try using .loc[row_indexer,col_indexer] = value instead\n",
            "\n",
            "See the caveats in the documentation: https://pandas.pydata.org/pandas-docs/stable/user_guide/indexing.html#returning-a-view-versus-a-copy\n",
            "  \"\"\"Entry point for launching an IPython kernel.\n",
            "/usr/local/lib/python3.7/dist-packages/ipykernel_launcher.py:2: SettingWithCopyWarning: \n",
            "A value is trying to be set on a copy of a slice from a DataFrame.\n",
            "Try using .loc[row_indexer,col_indexer] = value instead\n",
            "\n",
            "See the caveats in the documentation: https://pandas.pydata.org/pandas-docs/stable/user_guide/indexing.html#returning-a-view-versus-a-copy\n",
            "  \n",
            "/usr/local/lib/python3.7/dist-packages/ipykernel_launcher.py:4: SettingWithCopyWarning: \n",
            "A value is trying to be set on a copy of a slice from a DataFrame.\n",
            "Try using .loc[row_indexer,col_indexer] = value instead\n",
            "\n",
            "See the caveats in the documentation: https://pandas.pydata.org/pandas-docs/stable/user_guide/indexing.html#returning-a-view-versus-a-copy\n",
            "  after removing the cwd from sys.path.\n",
            "/usr/local/lib/python3.7/dist-packages/ipykernel_launcher.py:5: SettingWithCopyWarning: \n",
            "A value is trying to be set on a copy of a slice from a DataFrame.\n",
            "Try using .loc[row_indexer,col_indexer] = value instead\n",
            "\n",
            "See the caveats in the documentation: https://pandas.pydata.org/pandas-docs/stable/user_guide/indexing.html#returning-a-view-versus-a-copy\n",
            "  \"\"\"\n"
          ],
          "name": "stderr"
        }
      ]
    },
    {
      "cell_type": "code",
      "metadata": {
        "colab": {
          "base_uri": "https://localhost:8080/"
        },
        "id": "IkONnJcaq-Tz",
        "outputId": "17deecf6-8906-4f45-ba07-27399885ed6b"
      },
      "source": [
        "avg1 = df4['total_mins'].sum()/df4['total_calls'].sum()\n",
        "print('avg call length of false churn',avg1)\n",
        "avg2 = df5['total_mins'].sum()/df5['total_calls'].sum()\n",
        "print('avg call length of true churn',avg2)"
      ],
      "execution_count": 45,
      "outputs": [
        {
          "output_type": "stream",
          "text": [
            "avg call length of false churn 2.0660404495613283\n",
            "avg call length of true churn 1.9120855104002765\n"
          ],
          "name": "stdout"
        }
      ]
    },
    {
      "cell_type": "code",
      "metadata": {
        "id": "s0uYQcUwMwPV"
      },
      "source": [
        ""
      ],
      "execution_count": null,
      "outputs": []
    },
    {
      "cell_type": "code",
      "metadata": {
        "id": "YO9HftT-R8Gd"
      },
      "source": [
        ""
      ],
      "execution_count": 64,
      "outputs": []
    },
    {
      "cell_type": "code",
      "metadata": {
        "id": "d_WIqm8NSspu"
      },
      "source": [
        ""
      ],
      "execution_count": 24,
      "outputs": []
    },
    {
      "cell_type": "code",
      "metadata": {
        "colab": {
          "base_uri": "https://localhost:8080/"
        },
        "id": "hsIrCUh8pNIB",
        "outputId": "6745d88f-814a-46a8-c96f-c49ff2482da7"
      },
      "source": [
        "# Voice mail plan vs churn :\n",
        "\n",
        "df6 = df.groupby(['Churn', 'Voice mail plan'])['Voice mail plan'].count()\n",
        "print(df6.unstack())\n",
        "vmp_yes_true = (df6.unstack().loc[True,'Yes'] / df6.unstack().loc[True].sum())*100\n",
        "\n",
        "vmp_yes_false = (df6.unstack().loc[False,'Yes'] / df6.unstack().loc[False].sum())*100\n",
        "print(vmp_yes_true,vmp_yes_false)"
      ],
      "execution_count": 99,
      "outputs": [
        {
          "output_type": "stream",
          "text": [
            "Voice mail plan    No  Yes\n",
            "Churn                     \n",
            "False            2008  842\n",
            "True              403   80\n",
            "16.563146997929607 29.543859649122805\n"
          ],
          "name": "stdout"
        }
      ]
    },
    {
      "cell_type": "code",
      "metadata": {
        "colab": {
          "base_uri": "https://localhost:8080/",
          "height": 382
        },
        "id": "DeARi1J771wg",
        "outputId": "127f1727-b2d5-4ecd-a9c4-e334759cdf63"
      },
      "source": [
        "df6.unstack().plot(kind='bar')\n",
        "plt.title('Voice mail plan vs Churn')\n",
        "plt.xlabel('Churn')\n",
        "plt.ylabel('voice mail plan no')"
      ],
      "execution_count": 101,
      "outputs": [
        {
          "output_type": "execute_result",
          "data": {
            "text/plain": [
              "Text(0, 0.5, 'voice mail plan no')"
            ]
          },
          "metadata": {
            "tags": []
          },
          "execution_count": 101
        },
        {
          "output_type": "display_data",
          "data": {
            "image/png": "[encoded data removed]",
            "text/plain": [
              "<Figure size 720x360 with 1 Axes>"
            ]
          },
          "metadata": {
            "tags": [],
            "needs_background": "light"
          }
        }
      ]
    },
    {
      "cell_type": "code",
      "metadata": {
        "colab": {
          "base_uri": "https://localhost:8080/"
        },
        "id": "AyHezsfpPY81",
        "outputId": "f27d6ed6-ca69-4cc5-a21a-8f623341adac"
      },
      "source": [
        "#  Vmail msg vs churn\n",
        "\n",
        "df7 = df.groupby(['Churn'])['Number vmail messages'].mean()\n",
        "df7"
      ],
      "execution_count": 37,
      "outputs": [
        {
          "output_type": "execute_result",
          "data": {
            "text/plain": [
              "Churn\n",
              "False    8.604561\n",
              "True     5.115942\n",
              "Name: Number vmail messages, dtype: float64"
            ]
          },
          "metadata": {
            "tags": []
          },
          "execution_count": 37
        }
      ]
    },
    {
      "cell_type": "code",
      "metadata": {
        "colab": {
          "base_uri": "https://localhost:8080/",
          "height": 382
        },
        "id": "Q_AR-bGxbmx4",
        "outputId": "77640218-2435-48d6-b86b-9945983a8a30"
      },
      "source": [
        "plt.rcParams['figure.figsize'] = (10, 5)\n",
        "df7.plot(kind='bar')\n",
        "plt.title('Number vmail message vs churn')\n",
        "plt.xlabel('churn')\n",
        "plt.ylabel('Number vmail message')"
      ],
      "execution_count": 40,
      "outputs": [
        {
          "output_type": "execute_result",
          "data": {
            "text/plain": [
              "Text(0, 0.5, 'Number vmail message')"
            ]
          },
          "metadata": {
            "tags": []
          },
          "execution_count": 40
        },
        {
          "output_type": "display_data",
          "data": {
            "image/png": "[encoded data removed]",
            "text/plain": [
              "<Figure size 720x360 with 1 Axes>"
            ]
          },
          "metadata": {
            "tags": [],
            "needs_background": "light"
          }
        }
      ]
    },
    {
      "cell_type": "code",
      "metadata": {
        "colab": {
          "base_uri": "https://localhost:8080/"
        },
        "id": "QuHAvJ--cPFu",
        "outputId": "396f4bea-0d7b-4801-e90e-0de5d1359c09"
      },
      "source": [
        "df8 = df.groupby(['Churn','International plan'])['International plan'].count()\n",
        "df8"
      ],
      "execution_count": 24,
      "outputs": [
        {
          "output_type": "execute_result",
          "data": {
            "text/plain": [
              "Churn  International plan\n",
              "False  No                    2664\n",
              "       Yes                    186\n",
              "True   No                     346\n",
              "       Yes                    137\n",
              "Name: International plan, dtype: int64"
            ]
          },
          "metadata": {
            "tags": []
          },
          "execution_count": 24
        }
      ]
    },
    {
      "cell_type": "code",
      "metadata": {
        "colab": {
          "base_uri": "https://localhost:8080/",
          "height": 382
        },
        "id": "NCvfzy52abrp",
        "outputId": "9dbf21a5-99c4-4479-ca79-4256e275ec4b"
      },
      "source": [
        "plt.rcParams['figure.figsize'] = (10, 5)\n",
        "df8.unstack().plot(kind='bar')\n",
        "plt.title('International plan vs churn')\n",
        "plt.xlabel('churn')\n",
        "plt.ylabel('International plan')"
      ],
      "execution_count": 26,
      "outputs": [
        {
          "output_type": "execute_result",
          "data": {
            "text/plain": [
              "Text(0, 0.5, 'International plan')"
            ]
          },
          "metadata": {
            "tags": []
          },
          "execution_count": 26
        },
        {
          "output_type": "display_data",
          "data": {
            "image/png": "[encoded data removed]",
            "text/plain": [
              "<Figure size 720x360 with 1 Axes>"
            ]
          },
          "metadata": {
            "tags": [],
            "needs_background": "light"
          }
        }
      ]
    },
    {
      "cell_type": "code",
      "metadata": {
        "id": "_jIjy8WwcEEh"
      },
      "source": [
        ""
      ],
      "execution_count": null,
      "outputs": []
    },
    {
      "cell_type": "markdown",
      "metadata": {
        "id": "P-ChpStZteao"
      },
      "source": [
        "1. Statewise churning counts - done\n",
        "2. Intl plan vs churning - done\n",
        "3. voice mail plan vs churning - done\n",
        "4. customer service calls vs churning - done\n",
        "5. reasons of churning in top 10 states - \n",
        "6. call charges for day/ night/ eve - \n",
        "7. avg call charges/mins - \n",
        "8. "
      ]
    }
  ]
}