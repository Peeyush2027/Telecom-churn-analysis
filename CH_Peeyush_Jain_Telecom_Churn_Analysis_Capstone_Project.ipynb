{
  "nbformat": 4,
  "nbformat_minor": 0,
  "metadata": {
    "kernelspec": {
      "display_name": "Python 3",
      "language": "python",
      "name": "python3"
    },
    "language_info": {
      "codemirror_mode": {
        "name": "ipython",
        "version": 3
      },
      "file_extension": ".py",
      "mimetype": "text/x-python",
      "name": "python",
      "nbconvert_exporter": "python",
      "pygments_lexer": "ipython3",
      "version": "3.6.6"
    },
    "colab": {
      "name": "CH-Peeyush Jain- Telecom Churn Analysis - Capstone Project.ipynb",
      "provenance": [],
      "collapsed_sections": [],
      "include_colab_link": true
    }
  },
  "cells": [
    {
      "cell_type": "markdown",
      "metadata": {
        "id": "view-in-github",
        "colab_type": "text"
      },
      "source": [
        "<a href=\"https://colab.research.google.com/github/Peeyush2027/Telecom-churn-analysis/blob/main/CH_Peeyush_Jain_Telecom_Churn_Analysis_Capstone_Project.ipynb\" target=\"_parent\"><img src=\"https://colab.research.google.com/assets/colab-badge.svg\" alt=\"Open In Colab\"/></a>"
      ]
    },
    {
      "cell_type": "markdown",
      "metadata": {
        "id": "Y06xIdG26kRF"
      },
      "source": [
        "## <b> Orange S.A., formerly France Télécom S.A., is a French multinational telecommunications corporation. The Orange Telecom's Churn Dataset, consists of cleaned customer activity data (features), along with a churn label specifying whether a customer canceled the subscription.\n",
        "\n",
        "## <b> Explore and analyze the data to discover key factors responsible for customer churn and come up with ways/recommendations to ensure customer retention. </b>"
      ]
    },
    {
      "cell_type": "code",
      "metadata": {
        "id": "vnzwlcEbVjcW"
      },
      "source": [
        ""
      ],
      "execution_count": null,
      "outputs": []
    },
    {
      "cell_type": "code",
      "metadata": {
        "id": "dByMsuzT8Tnw"
      },
      "source": [
        "#Import package\n",
        "import pandas as pd\n",
        "import numpy as np\n",
        "import matplotlib.pyplot as plt\n",
        "%matplotlib inline"
      ],
      "execution_count": null,
      "outputs": []
    },
    {
      "cell_type": "code",
      "metadata": {
        "colab": {
          "base_uri": "https://localhost:8080/"
        },
        "id": "XarWRyXFI2Y3",
        "outputId": "d7aff6e2-5807-4778-c955-824c1162f1f5"
      },
      "source": [
        "from google.colab import drive\n",
        "drive.mount('/content/drive')"
      ],
      "execution_count": null,
      "outputs": [
        {
          "output_type": "stream",
          "text": [
            "Mounted at /content/drive\n"
          ],
          "name": "stdout"
        }
      ]
    },
    {
      "cell_type": "code",
      "metadata": {
        "id": "RG2WH0HdI4CU"
      },
      "source": [
        "file_path='/content/drive/MyDrive/Almabetter assignments/Module 1- Python/Capstone Project/Capstone project-1 ( Telecom )/Copy of Telecom Churn.csv'\n",
        "df=pd.read_csv(file_path)"
      ],
      "execution_count": null,
      "outputs": []
    },
    {
      "cell_type": "code",
      "metadata": {
        "colab": {
          "base_uri": "https://localhost:8080/",
          "height": 542
        },
        "id": "Pt4TMG4LKITq",
        "outputId": "3788ad62-293c-47da-fdcd-ceba7c48206a"
      },
      "source": [
        "df.head(15)"
      ],
      "execution_count": 10,
      "outputs": [
        {
          "output_type": "execute_result",
          "data": {
            "text/html": [
              "<div>\n",
              "<style scoped>\n",
              "    .dataframe tbody tr th:only-of-type {\n",
              "        vertical-align: middle;\n",
              "    }\n",
              "\n",
              "    .dataframe tbody tr th {\n",
              "        vertical-align: top;\n",
              "    }\n",
              "\n",
              "    .dataframe thead th {\n",
              "        text-align: right;\n",
              "    }\n",
              "</style>\n",
              "<table border=\"1\" class=\"dataframe\">\n",
              "  <thead>\n",
              "    <tr style=\"text-align: right;\">\n",
              "      <th></th>\n",
              "      <th>State</th>\n",
              "      <th>Account length</th>\n",
              "      <th>Area code</th>\n",
              "      <th>International plan</th>\n",
              "      <th>Voice mail plan</th>\n",
              "      <th>Number vmail messages</th>\n",
              "      <th>Total day minutes</th>\n",
              "      <th>Total day calls</th>\n",
              "      <th>Total day charge</th>\n",
              "      <th>Total eve minutes</th>\n",
              "      <th>Total eve calls</th>\n",
              "      <th>Total eve charge</th>\n",
              "      <th>Total night minutes</th>\n",
              "      <th>Total night calls</th>\n",
              "      <th>Total night charge</th>\n",
              "      <th>Total intl minutes</th>\n",
              "      <th>Total intl calls</th>\n",
              "      <th>Total intl charge</th>\n",
              "      <th>Customer service calls</th>\n",
              "      <th>Churn</th>\n",
              "    </tr>\n",
              "  </thead>\n",
              "  <tbody>\n",
              "    <tr>\n",
              "      <th>0</th>\n",
              "      <td>KS</td>\n",
              "      <td>128</td>\n",
              "      <td>415</td>\n",
              "      <td>No</td>\n",
              "      <td>Yes</td>\n",
              "      <td>25</td>\n",
              "      <td>265.1</td>\n",
              "      <td>110</td>\n",
              "      <td>45.07</td>\n",
              "      <td>197.4</td>\n",
              "      <td>99</td>\n",
              "      <td>16.78</td>\n",
              "      <td>244.7</td>\n",
              "      <td>91</td>\n",
              "      <td>11.01</td>\n",
              "      <td>10.0</td>\n",
              "      <td>3</td>\n",
              "      <td>2.70</td>\n",
              "      <td>1</td>\n",
              "      <td>False</td>\n",
              "    </tr>\n",
              "    <tr>\n",
              "      <th>1</th>\n",
              "      <td>OH</td>\n",
              "      <td>107</td>\n",
              "      <td>415</td>\n",
              "      <td>No</td>\n",
              "      <td>Yes</td>\n",
              "      <td>26</td>\n",
              "      <td>161.6</td>\n",
              "      <td>123</td>\n",
              "      <td>27.47</td>\n",
              "      <td>195.5</td>\n",
              "      <td>103</td>\n",
              "      <td>16.62</td>\n",
              "      <td>254.4</td>\n",
              "      <td>103</td>\n",
              "      <td>11.45</td>\n",
              "      <td>13.7</td>\n",
              "      <td>3</td>\n",
              "      <td>3.70</td>\n",
              "      <td>1</td>\n",
              "      <td>False</td>\n",
              "    </tr>\n",
              "    <tr>\n",
              "      <th>2</th>\n",
              "      <td>NJ</td>\n",
              "      <td>137</td>\n",
              "      <td>415</td>\n",
              "      <td>No</td>\n",
              "      <td>No</td>\n",
              "      <td>0</td>\n",
              "      <td>243.4</td>\n",
              "      <td>114</td>\n",
              "      <td>41.38</td>\n",
              "      <td>121.2</td>\n",
              "      <td>110</td>\n",
              "      <td>10.30</td>\n",
              "      <td>162.6</td>\n",
              "      <td>104</td>\n",
              "      <td>7.32</td>\n",
              "      <td>12.2</td>\n",
              "      <td>5</td>\n",
              "      <td>3.29</td>\n",
              "      <td>0</td>\n",
              "      <td>False</td>\n",
              "    </tr>\n",
              "    <tr>\n",
              "      <th>3</th>\n",
              "      <td>OH</td>\n",
              "      <td>84</td>\n",
              "      <td>408</td>\n",
              "      <td>Yes</td>\n",
              "      <td>No</td>\n",
              "      <td>0</td>\n",
              "      <td>299.4</td>\n",
              "      <td>71</td>\n",
              "      <td>50.90</td>\n",
              "      <td>61.9</td>\n",
              "      <td>88</td>\n",
              "      <td>5.26</td>\n",
              "      <td>196.9</td>\n",
              "      <td>89</td>\n",
              "      <td>8.86</td>\n",
              "      <td>6.6</td>\n",
              "      <td>7</td>\n",
              "      <td>1.78</td>\n",
              "      <td>2</td>\n",
              "      <td>False</td>\n",
              "    </tr>\n",
              "    <tr>\n",
              "      <th>4</th>\n",
              "      <td>OK</td>\n",
              "      <td>75</td>\n",
              "      <td>415</td>\n",
              "      <td>Yes</td>\n",
              "      <td>No</td>\n",
              "      <td>0</td>\n",
              "      <td>166.7</td>\n",
              "      <td>113</td>\n",
              "      <td>28.34</td>\n",
              "      <td>148.3</td>\n",
              "      <td>122</td>\n",
              "      <td>12.61</td>\n",
              "      <td>186.9</td>\n",
              "      <td>121</td>\n",
              "      <td>8.41</td>\n",
              "      <td>10.1</td>\n",
              "      <td>3</td>\n",
              "      <td>2.73</td>\n",
              "      <td>3</td>\n",
              "      <td>False</td>\n",
              "    </tr>\n",
              "    <tr>\n",
              "      <th>5</th>\n",
              "      <td>AL</td>\n",
              "      <td>118</td>\n",
              "      <td>510</td>\n",
              "      <td>Yes</td>\n",
              "      <td>No</td>\n",
              "      <td>0</td>\n",
              "      <td>223.4</td>\n",
              "      <td>98</td>\n",
              "      <td>37.98</td>\n",
              "      <td>220.6</td>\n",
              "      <td>101</td>\n",
              "      <td>18.75</td>\n",
              "      <td>203.9</td>\n",
              "      <td>118</td>\n",
              "      <td>9.18</td>\n",
              "      <td>6.3</td>\n",
              "      <td>6</td>\n",
              "      <td>1.70</td>\n",
              "      <td>0</td>\n",
              "      <td>False</td>\n",
              "    </tr>\n",
              "    <tr>\n",
              "      <th>6</th>\n",
              "      <td>MA</td>\n",
              "      <td>121</td>\n",
              "      <td>510</td>\n",
              "      <td>No</td>\n",
              "      <td>Yes</td>\n",
              "      <td>24</td>\n",
              "      <td>218.2</td>\n",
              "      <td>88</td>\n",
              "      <td>37.09</td>\n",
              "      <td>348.5</td>\n",
              "      <td>108</td>\n",
              "      <td>29.62</td>\n",
              "      <td>212.6</td>\n",
              "      <td>118</td>\n",
              "      <td>9.57</td>\n",
              "      <td>7.5</td>\n",
              "      <td>7</td>\n",
              "      <td>2.03</td>\n",
              "      <td>3</td>\n",
              "      <td>False</td>\n",
              "    </tr>\n",
              "    <tr>\n",
              "      <th>7</th>\n",
              "      <td>MO</td>\n",
              "      <td>147</td>\n",
              "      <td>415</td>\n",
              "      <td>Yes</td>\n",
              "      <td>No</td>\n",
              "      <td>0</td>\n",
              "      <td>157.0</td>\n",
              "      <td>79</td>\n",
              "      <td>26.69</td>\n",
              "      <td>103.1</td>\n",
              "      <td>94</td>\n",
              "      <td>8.76</td>\n",
              "      <td>211.8</td>\n",
              "      <td>96</td>\n",
              "      <td>9.53</td>\n",
              "      <td>7.1</td>\n",
              "      <td>6</td>\n",
              "      <td>1.92</td>\n",
              "      <td>0</td>\n",
              "      <td>False</td>\n",
              "    </tr>\n",
              "    <tr>\n",
              "      <th>8</th>\n",
              "      <td>LA</td>\n",
              "      <td>117</td>\n",
              "      <td>408</td>\n",
              "      <td>No</td>\n",
              "      <td>No</td>\n",
              "      <td>0</td>\n",
              "      <td>184.5</td>\n",
              "      <td>97</td>\n",
              "      <td>31.37</td>\n",
              "      <td>351.6</td>\n",
              "      <td>80</td>\n",
              "      <td>29.89</td>\n",
              "      <td>215.8</td>\n",
              "      <td>90</td>\n",
              "      <td>9.71</td>\n",
              "      <td>8.7</td>\n",
              "      <td>4</td>\n",
              "      <td>2.35</td>\n",
              "      <td>1</td>\n",
              "      <td>False</td>\n",
              "    </tr>\n",
              "    <tr>\n",
              "      <th>9</th>\n",
              "      <td>WV</td>\n",
              "      <td>141</td>\n",
              "      <td>415</td>\n",
              "      <td>Yes</td>\n",
              "      <td>Yes</td>\n",
              "      <td>37</td>\n",
              "      <td>258.6</td>\n",
              "      <td>84</td>\n",
              "      <td>43.96</td>\n",
              "      <td>222.0</td>\n",
              "      <td>111</td>\n",
              "      <td>18.87</td>\n",
              "      <td>326.4</td>\n",
              "      <td>97</td>\n",
              "      <td>14.69</td>\n",
              "      <td>11.2</td>\n",
              "      <td>5</td>\n",
              "      <td>3.02</td>\n",
              "      <td>0</td>\n",
              "      <td>False</td>\n",
              "    </tr>\n",
              "    <tr>\n",
              "      <th>10</th>\n",
              "      <td>IN</td>\n",
              "      <td>65</td>\n",
              "      <td>415</td>\n",
              "      <td>No</td>\n",
              "      <td>No</td>\n",
              "      <td>0</td>\n",
              "      <td>129.1</td>\n",
              "      <td>137</td>\n",
              "      <td>21.95</td>\n",
              "      <td>228.5</td>\n",
              "      <td>83</td>\n",
              "      <td>19.42</td>\n",
              "      <td>208.8</td>\n",
              "      <td>111</td>\n",
              "      <td>9.40</td>\n",
              "      <td>12.7</td>\n",
              "      <td>6</td>\n",
              "      <td>3.43</td>\n",
              "      <td>4</td>\n",
              "      <td>True</td>\n",
              "    </tr>\n",
              "    <tr>\n",
              "      <th>11</th>\n",
              "      <td>RI</td>\n",
              "      <td>74</td>\n",
              "      <td>415</td>\n",
              "      <td>No</td>\n",
              "      <td>No</td>\n",
              "      <td>0</td>\n",
              "      <td>187.7</td>\n",
              "      <td>127</td>\n",
              "      <td>31.91</td>\n",
              "      <td>163.4</td>\n",
              "      <td>148</td>\n",
              "      <td>13.89</td>\n",
              "      <td>196.0</td>\n",
              "      <td>94</td>\n",
              "      <td>8.82</td>\n",
              "      <td>9.1</td>\n",
              "      <td>5</td>\n",
              "      <td>2.46</td>\n",
              "      <td>0</td>\n",
              "      <td>False</td>\n",
              "    </tr>\n",
              "    <tr>\n",
              "      <th>12</th>\n",
              "      <td>IA</td>\n",
              "      <td>168</td>\n",
              "      <td>408</td>\n",
              "      <td>No</td>\n",
              "      <td>No</td>\n",
              "      <td>0</td>\n",
              "      <td>128.8</td>\n",
              "      <td>96</td>\n",
              "      <td>21.90</td>\n",
              "      <td>104.9</td>\n",
              "      <td>71</td>\n",
              "      <td>8.92</td>\n",
              "      <td>141.1</td>\n",
              "      <td>128</td>\n",
              "      <td>6.35</td>\n",
              "      <td>11.2</td>\n",
              "      <td>2</td>\n",
              "      <td>3.02</td>\n",
              "      <td>1</td>\n",
              "      <td>False</td>\n",
              "    </tr>\n",
              "    <tr>\n",
              "      <th>13</th>\n",
              "      <td>MT</td>\n",
              "      <td>95</td>\n",
              "      <td>510</td>\n",
              "      <td>No</td>\n",
              "      <td>No</td>\n",
              "      <td>0</td>\n",
              "      <td>156.6</td>\n",
              "      <td>88</td>\n",
              "      <td>26.62</td>\n",
              "      <td>247.6</td>\n",
              "      <td>75</td>\n",
              "      <td>21.05</td>\n",
              "      <td>192.3</td>\n",
              "      <td>115</td>\n",
              "      <td>8.65</td>\n",
              "      <td>12.3</td>\n",
              "      <td>5</td>\n",
              "      <td>3.32</td>\n",
              "      <td>3</td>\n",
              "      <td>False</td>\n",
              "    </tr>\n",
              "    <tr>\n",
              "      <th>14</th>\n",
              "      <td>IA</td>\n",
              "      <td>62</td>\n",
              "      <td>415</td>\n",
              "      <td>No</td>\n",
              "      <td>No</td>\n",
              "      <td>0</td>\n",
              "      <td>120.7</td>\n",
              "      <td>70</td>\n",
              "      <td>20.52</td>\n",
              "      <td>307.2</td>\n",
              "      <td>76</td>\n",
              "      <td>26.11</td>\n",
              "      <td>203.0</td>\n",
              "      <td>99</td>\n",
              "      <td>9.14</td>\n",
              "      <td>13.1</td>\n",
              "      <td>6</td>\n",
              "      <td>3.54</td>\n",
              "      <td>4</td>\n",
              "      <td>False</td>\n",
              "    </tr>\n",
              "  </tbody>\n",
              "</table>\n",
              "</div>"
            ],
            "text/plain": [
              "   State  Account length  ...  Customer service calls  Churn\n",
              "0     KS             128  ...                       1  False\n",
              "1     OH             107  ...                       1  False\n",
              "2     NJ             137  ...                       0  False\n",
              "3     OH              84  ...                       2  False\n",
              "4     OK              75  ...                       3  False\n",
              "5     AL             118  ...                       0  False\n",
              "6     MA             121  ...                       3  False\n",
              "7     MO             147  ...                       0  False\n",
              "8     LA             117  ...                       1  False\n",
              "9     WV             141  ...                       0  False\n",
              "10    IN              65  ...                       4   True\n",
              "11    RI              74  ...                       0  False\n",
              "12    IA             168  ...                       1  False\n",
              "13    MT              95  ...                       3  False\n",
              "14    IA              62  ...                       4  False\n",
              "\n",
              "[15 rows x 20 columns]"
            ]
          },
          "metadata": {
            "tags": []
          },
          "execution_count": 10
        }
      ]
    },
    {
      "cell_type": "code",
      "metadata": {
        "id": "BjtpCJ4EsAfw"
      },
      "source": [
        "# df[df['Account length']<80 and df['Voice mail plan']=='Yes'][['Account length','Voice mail plan']]"
      ],
      "execution_count": 18,
      "outputs": []
    },
    {
      "cell_type": "code",
      "metadata": {
        "colab": {
          "base_uri": "https://localhost:8080/"
        },
        "id": "Y7wYOaQkNiLG",
        "outputId": "1eccf252-22fc-4c74-fb60-1fef4f88d19a"
      },
      "source": [
        "df.info()"
      ],
      "execution_count": null,
      "outputs": [
        {
          "output_type": "stream",
          "text": [
            "<class 'pandas.core.frame.DataFrame'>\n",
            "RangeIndex: 3333 entries, 0 to 3332\n",
            "Data columns (total 20 columns):\n",
            " #   Column                  Non-Null Count  Dtype  \n",
            "---  ------                  --------------  -----  \n",
            " 0   State                   3333 non-null   object \n",
            " 1   Account length          3333 non-null   int64  \n",
            " 2   Area code               3333 non-null   int64  \n",
            " 3   International plan      3333 non-null   object \n",
            " 4   Voice mail plan         3333 non-null   object \n",
            " 5   Number vmail messages   3333 non-null   int64  \n",
            " 6   Total day minutes       3333 non-null   float64\n",
            " 7   Total day calls         3333 non-null   int64  \n",
            " 8   Total day charge        3333 non-null   float64\n",
            " 9   Total eve minutes       3333 non-null   float64\n",
            " 10  Total eve calls         3333 non-null   int64  \n",
            " 11  Total eve charge        3333 non-null   float64\n",
            " 12  Total night minutes     3333 non-null   float64\n",
            " 13  Total night calls       3333 non-null   int64  \n",
            " 14  Total night charge      3333 non-null   float64\n",
            " 15  Total intl minutes      3333 non-null   float64\n",
            " 16  Total intl calls        3333 non-null   int64  \n",
            " 17  Total intl charge       3333 non-null   float64\n",
            " 18  Customer service calls  3333 non-null   int64  \n",
            " 19  Churn                   3333 non-null   bool   \n",
            "dtypes: bool(1), float64(8), int64(8), object(3)\n",
            "memory usage: 498.1+ KB\n"
          ],
          "name": "stdout"
        }
      ]
    },
    {
      "cell_type": "markdown",
      "metadata": {
        "id": "fG5ZNA2gK4XS"
      },
      "source": [
        "**1. Statewise churning**"
      ]
    },
    {
      "cell_type": "code",
      "metadata": {
        "id": "3tm6mv5mRMjt",
        "colab": {
          "base_uri": "https://localhost:8080/",
          "height": 202
        },
        "outputId": "e7bc8476-4f96-40ab-801a-e1579ea7596f"
      },
      "source": [
        "\n",
        "\n",
        "state_df = pd.DataFrame(df[df['Churn']==True]['State'].value_counts())\n",
        "# df1=df.groupby('State')[df['Churn']==True].count()\n",
        "state_df.head()"
      ],
      "execution_count": null,
      "outputs": [
        {
          "output_type": "execute_result",
          "data": {
            "text/html": [
              "<div>\n",
              "<style scoped>\n",
              "    .dataframe tbody tr th:only-of-type {\n",
              "        vertical-align: middle;\n",
              "    }\n",
              "\n",
              "    .dataframe tbody tr th {\n",
              "        vertical-align: top;\n",
              "    }\n",
              "\n",
              "    .dataframe thead th {\n",
              "        text-align: right;\n",
              "    }\n",
              "</style>\n",
              "<table border=\"1\" class=\"dataframe\">\n",
              "  <thead>\n",
              "    <tr style=\"text-align: right;\">\n",
              "      <th></th>\n",
              "      <th>State</th>\n",
              "    </tr>\n",
              "  </thead>\n",
              "  <tbody>\n",
              "    <tr>\n",
              "      <th>NJ</th>\n",
              "      <td>18</td>\n",
              "    </tr>\n",
              "    <tr>\n",
              "      <th>TX</th>\n",
              "      <td>18</td>\n",
              "    </tr>\n",
              "    <tr>\n",
              "      <th>MD</th>\n",
              "      <td>17</td>\n",
              "    </tr>\n",
              "    <tr>\n",
              "      <th>MI</th>\n",
              "      <td>16</td>\n",
              "    </tr>\n",
              "    <tr>\n",
              "      <th>NY</th>\n",
              "      <td>15</td>\n",
              "    </tr>\n",
              "  </tbody>\n",
              "</table>\n",
              "</div>"
            ],
            "text/plain": [
              "    State\n",
              "NJ     18\n",
              "TX     18\n",
              "MD     17\n",
              "MI     16\n",
              "NY     15"
            ]
          },
          "metadata": {
            "tags": []
          },
          "execution_count": 12
        }
      ]
    },
    {
      "cell_type": "code",
      "metadata": {
        "colab": {
          "base_uri": "https://localhost:8080/",
          "height": 537
        },
        "id": "u3yjptI-HMeN",
        "outputId": "950b8177-1733-40ad-b87a-a16ba1880e54"
      },
      "source": [
        "plt.rcParams['figure.figsize'] = (20, 8)\n",
        "state_df.plot(kind='bar')\n",
        "\n",
        "plt.title('statewise churning figures')\n",
        "plt.ylabel('Total number of people')\n",
        "plt.xlabel('Churn-True')"
      ],
      "execution_count": null,
      "outputs": [
        {
          "output_type": "execute_result",
          "data": {
            "text/plain": [
              "Text(0.5, 0, 'Churn-True')"
            ]
          },
          "metadata": {
            "tags": []
          },
          "execution_count": 15
        },
        {
          "output_type": "display_data",
          "data": {
            "image/png": "[encoded data removed]",
            "text/plain": [
              "<Figure size 1440x576 with 1 Axes>"
            ]
          },
          "metadata": {
            "tags": [],
            "needs_background": "light"
          }
        }
      ]
    },
    {
      "cell_type": "markdown",
      "metadata": {
        "id": "uiyfHMSSLm4G"
      },
      "source": [
        "**2. Statewise distribution of customer service calls**"
      ]
    },
    {
      "cell_type": "code",
      "metadata": {
        "colab": {
          "base_uri": "https://localhost:8080/",
          "height": 191
        },
        "id": "Wge-PJRRRx7U",
        "outputId": "97519413-1a15-43a5-8f4d-8eb9e2ad497c"
      },
      "source": [
        "# State wise distribution of customer service calls for true & false churn\n",
        "df2= pd.DataFrame(df.groupby(['Churn','State'])['Customer service calls'].sum())\n",
        "\n",
        "df2 = pd.DataFrame(df2.unstack())\n",
        "df2"
      ],
      "execution_count": null,
      "outputs": [
        {
          "output_type": "execute_result",
          "data": {
            "text/html": [
              "<div>\n",
              "<style scoped>\n",
              "    .dataframe tbody tr th:only-of-type {\n",
              "        vertical-align: middle;\n",
              "    }\n",
              "\n",
              "    .dataframe tbody tr th {\n",
              "        vertical-align: top;\n",
              "    }\n",
              "\n",
              "    .dataframe thead tr th {\n",
              "        text-align: left;\n",
              "    }\n",
              "\n",
              "    .dataframe thead tr:last-of-type th {\n",
              "        text-align: right;\n",
              "    }\n",
              "</style>\n",
              "<table border=\"1\" class=\"dataframe\">\n",
              "  <thead>\n",
              "    <tr>\n",
              "      <th></th>\n",
              "      <th colspan=\"51\" halign=\"left\">Customer service calls</th>\n",
              "    </tr>\n",
              "    <tr>\n",
              "      <th>State</th>\n",
              "      <th>AK</th>\n",
              "      <th>AL</th>\n",
              "      <th>AR</th>\n",
              "      <th>AZ</th>\n",
              "      <th>CA</th>\n",
              "      <th>CO</th>\n",
              "      <th>CT</th>\n",
              "      <th>DC</th>\n",
              "      <th>DE</th>\n",
              "      <th>FL</th>\n",
              "      <th>GA</th>\n",
              "      <th>HI</th>\n",
              "      <th>IA</th>\n",
              "      <th>ID</th>\n",
              "      <th>IL</th>\n",
              "      <th>IN</th>\n",
              "      <th>KS</th>\n",
              "      <th>KY</th>\n",
              "      <th>LA</th>\n",
              "      <th>MA</th>\n",
              "      <th>MD</th>\n",
              "      <th>ME</th>\n",
              "      <th>MI</th>\n",
              "      <th>MN</th>\n",
              "      <th>MO</th>\n",
              "      <th>MS</th>\n",
              "      <th>MT</th>\n",
              "      <th>NC</th>\n",
              "      <th>ND</th>\n",
              "      <th>NE</th>\n",
              "      <th>NH</th>\n",
              "      <th>NJ</th>\n",
              "      <th>NM</th>\n",
              "      <th>NV</th>\n",
              "      <th>NY</th>\n",
              "      <th>OH</th>\n",
              "      <th>OK</th>\n",
              "      <th>OR</th>\n",
              "      <th>PA</th>\n",
              "      <th>RI</th>\n",
              "      <th>SC</th>\n",
              "      <th>SD</th>\n",
              "      <th>TN</th>\n",
              "      <th>TX</th>\n",
              "      <th>UT</th>\n",
              "      <th>VA</th>\n",
              "      <th>VT</th>\n",
              "      <th>WA</th>\n",
              "      <th>WI</th>\n",
              "      <th>WV</th>\n",
              "      <th>WY</th>\n",
              "    </tr>\n",
              "    <tr>\n",
              "      <th>Churn</th>\n",
              "      <th></th>\n",
              "      <th></th>\n",
              "      <th></th>\n",
              "      <th></th>\n",
              "      <th></th>\n",
              "      <th></th>\n",
              "      <th></th>\n",
              "      <th></th>\n",
              "      <th></th>\n",
              "      <th></th>\n",
              "      <th></th>\n",
              "      <th></th>\n",
              "      <th></th>\n",
              "      <th></th>\n",
              "      <th></th>\n",
              "      <th></th>\n",
              "      <th></th>\n",
              "      <th></th>\n",
              "      <th></th>\n",
              "      <th></th>\n",
              "      <th></th>\n",
              "      <th></th>\n",
              "      <th></th>\n",
              "      <th></th>\n",
              "      <th></th>\n",
              "      <th></th>\n",
              "      <th></th>\n",
              "      <th></th>\n",
              "      <th></th>\n",
              "      <th></th>\n",
              "      <th></th>\n",
              "      <th></th>\n",
              "      <th></th>\n",
              "      <th></th>\n",
              "      <th></th>\n",
              "      <th></th>\n",
              "      <th></th>\n",
              "      <th></th>\n",
              "      <th></th>\n",
              "      <th></th>\n",
              "      <th></th>\n",
              "      <th></th>\n",
              "      <th></th>\n",
              "      <th></th>\n",
              "      <th></th>\n",
              "      <th></th>\n",
              "      <th></th>\n",
              "      <th></th>\n",
              "      <th></th>\n",
              "      <th></th>\n",
              "      <th></th>\n",
              "    </tr>\n",
              "  </thead>\n",
              "  <tbody>\n",
              "    <tr>\n",
              "      <th>False</th>\n",
              "      <td>71</td>\n",
              "      <td>101</td>\n",
              "      <td>67</td>\n",
              "      <td>93</td>\n",
              "      <td>34</td>\n",
              "      <td>95</td>\n",
              "      <td>95</td>\n",
              "      <td>64</td>\n",
              "      <td>86</td>\n",
              "      <td>82</td>\n",
              "      <td>86</td>\n",
              "      <td>73</td>\n",
              "      <td>61</td>\n",
              "      <td>95</td>\n",
              "      <td>60</td>\n",
              "      <td>92</td>\n",
              "      <td>75</td>\n",
              "      <td>77</td>\n",
              "      <td>71</td>\n",
              "      <td>64</td>\n",
              "      <td>81</td>\n",
              "      <td>82</td>\n",
              "      <td>80</td>\n",
              "      <td>89</td>\n",
              "      <td>79</td>\n",
              "      <td>78</td>\n",
              "      <td>75</td>\n",
              "      <td>81</td>\n",
              "      <td>81</td>\n",
              "      <td>83</td>\n",
              "      <td>58</td>\n",
              "      <td>75</td>\n",
              "      <td>84</td>\n",
              "      <td>75</td>\n",
              "      <td>102</td>\n",
              "      <td>96</td>\n",
              "      <td>94</td>\n",
              "      <td>109</td>\n",
              "      <td>42</td>\n",
              "      <td>80</td>\n",
              "      <td>66</td>\n",
              "      <td>72</td>\n",
              "      <td>55</td>\n",
              "      <td>86</td>\n",
              "      <td>73</td>\n",
              "      <td>115</td>\n",
              "      <td>104</td>\n",
              "      <td>72</td>\n",
              "      <td>98</td>\n",
              "      <td>131</td>\n",
              "      <td>94</td>\n",
              "    </tr>\n",
              "    <tr>\n",
              "      <th>True</th>\n",
              "      <td>10</td>\n",
              "      <td>24</td>\n",
              "      <td>42</td>\n",
              "      <td>9</td>\n",
              "      <td>16</td>\n",
              "      <td>23</td>\n",
              "      <td>17</td>\n",
              "      <td>9</td>\n",
              "      <td>13</td>\n",
              "      <td>17</td>\n",
              "      <td>18</td>\n",
              "      <td>9</td>\n",
              "      <td>9</td>\n",
              "      <td>27</td>\n",
              "      <td>6</td>\n",
              "      <td>28</td>\n",
              "      <td>22</td>\n",
              "      <td>24</td>\n",
              "      <td>9</td>\n",
              "      <td>15</td>\n",
              "      <td>38</td>\n",
              "      <td>26</td>\n",
              "      <td>39</td>\n",
              "      <td>41</td>\n",
              "      <td>19</td>\n",
              "      <td>32</td>\n",
              "      <td>36</td>\n",
              "      <td>25</td>\n",
              "      <td>9</td>\n",
              "      <td>6</td>\n",
              "      <td>27</td>\n",
              "      <td>39</td>\n",
              "      <td>15</td>\n",
              "      <td>30</td>\n",
              "      <td>40</td>\n",
              "      <td>10</td>\n",
              "      <td>15</td>\n",
              "      <td>26</td>\n",
              "      <td>15</td>\n",
              "      <td>12</td>\n",
              "      <td>29</td>\n",
              "      <td>12</td>\n",
              "      <td>15</td>\n",
              "      <td>30</td>\n",
              "      <td>26</td>\n",
              "      <td>8</td>\n",
              "      <td>23</td>\n",
              "      <td>29</td>\n",
              "      <td>13</td>\n",
              "      <td>28</td>\n",
              "      <td>17</td>\n",
              "    </tr>\n",
              "  </tbody>\n",
              "</table>\n",
              "</div>"
            ],
            "text/plain": [
              "      Customer service calls                       ...                           \n",
              "State                     AK   AL  AR  AZ  CA  CO  ...   VA   VT  WA  WI   WV  WY\n",
              "Churn                                              ...                           \n",
              "False                     71  101  67  93  34  95  ...  115  104  72  98  131  94\n",
              "True                      10   24  42   9  16  23  ...    8   23  29  13   28  17\n",
              "\n",
              "[2 rows x 51 columns]"
            ]
          },
          "metadata": {
            "tags": []
          },
          "execution_count": 11
        }
      ]
    },
    {
      "cell_type": "code",
      "metadata": {
        "colab": {
          "base_uri": "https://localhost:8080/",
          "height": 664
        },
        "id": "7Qs4CzfRYQsn",
        "outputId": "616c41d3-04ce-4143-8dfb-301fdec00ba9"
      },
      "source": [
        "state_true= df2.loc[True].sort_values()\n",
        "plt.rcParams['figure.figsize'] = (20, 8)\n",
        "state_true.plot(kind='bar')\n",
        "\n",
        "plt.title('Customer service calls')\n",
        "plt.ylabel('Total number of calls')\n",
        "plt.xlabel('Churn-True')"
      ],
      "execution_count": null,
      "outputs": [
        {
          "output_type": "execute_result",
          "data": {
            "text/plain": [
              "Text(0.5, 0, 'Churn-True')"
            ]
          },
          "metadata": {
            "tags": []
          },
          "execution_count": 13
        },
        {
          "output_type": "display_data",
          "data": {
            "image/png": "[encoded data removed]",
            "text/plain": [
              "<Figure size 1440x576 with 1 Axes>"
            ]
          },
          "metadata": {
            "tags": [],
            "needs_background": "light"
          }
        }
      ]
    },
    {
      "cell_type": "markdown",
      "metadata": {
        "id": "rAcdK__dL27R"
      },
      "source": [
        "**3. Churning rate**"
      ]
    },
    {
      "cell_type": "code",
      "metadata": {
        "colab": {
          "base_uri": "https://localhost:8080/",
          "height": 158
        },
        "id": "lGUF9hUUL50o",
        "outputId": "8541f970-8426-4471-8ea2-163a17cbb330"
      },
      "source": [
        "# Total customer service calls as per the churning and churning rate:\n",
        "\n",
        "df3 = pd.DataFrame(df.groupby('Churn').agg({'Customer service calls':'sum','Churn':'count'}))\n",
        "\n",
        "churning_rate = (df[df['Churn']==True]['Churn'].count()/df['Churn'].count())*100\n",
        "print('The rate of churning is',round(churning_rate,2),'%')\n",
        "df3"
      ],
      "execution_count": null,
      "outputs": [
        {
          "output_type": "stream",
          "text": [
            "The rate of churning is 14.49 %\n"
          ],
          "name": "stdout"
        },
        {
          "output_type": "execute_result",
          "data": {
            "text/html": [
              "<div>\n",
              "<style scoped>\n",
              "    .dataframe tbody tr th:only-of-type {\n",
              "        vertical-align: middle;\n",
              "    }\n",
              "\n",
              "    .dataframe tbody tr th {\n",
              "        vertical-align: top;\n",
              "    }\n",
              "\n",
              "    .dataframe thead th {\n",
              "        text-align: right;\n",
              "    }\n",
              "</style>\n",
              "<table border=\"1\" class=\"dataframe\">\n",
              "  <thead>\n",
              "    <tr style=\"text-align: right;\">\n",
              "      <th></th>\n",
              "      <th>Customer service calls</th>\n",
              "      <th>Churn</th>\n",
              "    </tr>\n",
              "    <tr>\n",
              "      <th>Churn</th>\n",
              "      <th></th>\n",
              "      <th></th>\n",
              "    </tr>\n",
              "  </thead>\n",
              "  <tbody>\n",
              "    <tr>\n",
              "      <th>False</th>\n",
              "      <td>4132</td>\n",
              "      <td>2850</td>\n",
              "    </tr>\n",
              "    <tr>\n",
              "      <th>True</th>\n",
              "      <td>1077</td>\n",
              "      <td>483</td>\n",
              "    </tr>\n",
              "  </tbody>\n",
              "</table>\n",
              "</div>"
            ],
            "text/plain": [
              "       Customer service calls  Churn\n",
              "Churn                               \n",
              "False                    4132   2850\n",
              "True                     1077    483"
            ]
          },
          "metadata": {
            "tags": []
          },
          "execution_count": 28
        }
      ]
    },
    {
      "cell_type": "code",
      "metadata": {
        "colab": {
          "base_uri": "https://localhost:8080/",
          "height": 382
        },
        "id": "oIxGRv4IL97l",
        "outputId": "295f04c5-bf82-4df0-d937-0fc113433f7c"
      },
      "source": [
        "plt.rcParams['figure.figsize'] = (10, 5)\n",
        "df3.plot(kind='bar')\n",
        "\n",
        "plt.title('Customer service calls')\n",
        "plt.ylabel('Total number of calls')\n",
        "plt.xlabel('Churn')"
      ],
      "execution_count": null,
      "outputs": [
        {
          "output_type": "execute_result",
          "data": {
            "text/plain": [
              "Text(0.5, 0, 'Churn')"
            ]
          },
          "metadata": {
            "tags": []
          },
          "execution_count": 41
        },
        {
          "output_type": "display_data",
          "data": {
            "image/png": "[encoded data removed]",
            "text/plain": [
              "<Figure size 720x360 with 1 Axes>"
            ]
          },
          "metadata": {
            "tags": [],
            "needs_background": "light"
          }
        }
      ]
    },
    {
      "cell_type": "code",
      "metadata": {
        "colab": {
          "base_uri": "https://localhost:8080/"
        },
        "id": "CD3IeEuyOJDB",
        "outputId": "2af77e85-5bf4-4157-c445-80a67df0111a"
      },
      "source": [
        "# Avg. service calls for true and false churning:\n",
        "\n",
        "avg_false_sc = df3.loc[False,'Customer service calls']/df3.loc[False,'Churn']\n",
        "\n",
        "print('avg. service calls for False churn', avg_false_sc)\n",
        "\n",
        "avg_true_sc = df3.loc[True,'Customer service calls']/df3.loc[True,'Churn']\n",
        "print('avg. service calls for True churn', avg_true_sc)\n",
        "\n",
        "percent_diff = ((avg_true_sc-avg_false_sc)/avg_false_sc)*100\n",
        "print(f'avg service calls in True churning is {round(percent_diff)}% more than false churning')"
      ],
      "execution_count": null,
      "outputs": [
        {
          "output_type": "stream",
          "text": [
            "avg. service calls for False churn 1.4498245614035088\n",
            "avg. service calls for True churn 2.229813664596273\n",
            "avg service calls in True churning is 54% more than false churning\n"
          ],
          "name": "stdout"
        }
      ]
    },
    {
      "cell_type": "markdown",
      "metadata": {
        "id": "hG_d72pFPTp7"
      },
      "source": [
        "**4. call charges for day/night and eve**"
      ]
    },
    {
      "cell_type": "code",
      "metadata": {
        "colab": {
          "base_uri": "https://localhost:8080/"
        },
        "id": "O1Ot9XsMNrfo",
        "outputId": "34be5b3f-e1ad-4fbb-d98a-648b2dc24ba4"
      },
      "source": [
        "# Avg call charge in during night calls and day: \n",
        "\n",
        "avg_chrge_night_true = df[df['Churn']==True]['Total night charge'].sum()/df[df['Churn']==True]['Total night minutes'].sum()\n",
        "print('night true',avg_chrge_night_true)\n",
        "avg_chrge_night_false = df[df['Churn']==False]['Total night charge'].sum()/df[df['Churn']==False]['Total night minutes'].sum()\n",
        "print('night false',avg_chrge_night_false)\n",
        "\n",
        "avg_chrge_day_true = df[df['Churn']==True]['Total day charge'].sum()/df[df['Churn']==True]['Total day minutes'].sum()\n",
        "print('day true',avg_chrge_day_true)\n",
        "avg_chrge_day_false = df[df['Churn']==False]['Total day charge'].sum()/df[df['Churn']==False]['Total day minutes'].sum()\n",
        "print('day false',avg_chrge_day_false)\n",
        "\n",
        "\n",
        "avg_chrge_eve_true = df[df['Churn']==True]['Total eve charge'].sum()/df[df['Churn']==True]['Total eve minutes'].sum()\n",
        "print('eve true',avg_chrge_eve_true)\n",
        "avg_chrge_eve_false = df[df['Churn']==False]['Total eve charge'].sum()/df[df['Churn']==False]['Total eve minutes'].sum()\n",
        "print('eve false',avg_chrge_eve_false)\n",
        "\n",
        "avg_chrge_intl_true = df[df['Churn']==True]['Total intl charge'].sum()/df[df['Churn']==True]['Total intl minutes'].sum()\n",
        "print('intl true',avg_chrge_intl_true)\n",
        "avg_chrge_intl_false = df[df['Churn']==False]['Total intl charge'].sum()/df[df['Churn']==False]['Total intl minutes'].sum()\n",
        "print('intl false',avg_chrge_intl_false)"
      ],
      "execution_count": 8,
      "outputs": [
        {
          "output_type": "stream",
          "text": [
            "night true 0.04500049935991139\n",
            "night false 0.04500039973379132\n",
            "day true 0.17000255154368393\n",
            "day false 0.17000309864238602\n",
            "eve true 0.08500050197818391\n",
            "eve false 0.08500114759479294\n",
            "intl true 0.27005088910818287\n",
            "intl false 0.2700498742781355\n"
          ],
          "name": "stdout"
        }
      ]
    },
    {
      "cell_type": "markdown",
      "metadata": {
        "id": "ZEeJvnZAQeR9"
      },
      "source": [
        "**5. Voice mail plan vs churn :**"
      ]
    },
    {
      "cell_type": "code",
      "metadata": {
        "colab": {
          "base_uri": "https://localhost:8080/"
        },
        "id": "VHSQuY7RQgKg",
        "outputId": "0bca341e-77d7-4c81-f2a4-c2acb2ccc019"
      },
      "source": [
        "df4 = df.groupby(['Churn', 'Voice mail plan'])['Voice mail plan'].count()\n",
        "print(df4.unstack())\n",
        "vmp_yes_true = (df4.unstack().loc[True,'Yes'] / df4.unstack().loc[True].sum())*100\n",
        "print('The % of people with TRUE churning with voice plan activated', round(vmp_yes_true,2),'%')\n",
        "vmp_yes_false = (df4.unstack().loc[False,'Yes'] / df4.unstack().loc[False].sum())*100\n",
        "print('The % of people with FALSE churning with voice plan activated',round(vmp_yes_false,2),'%')"
      ],
      "execution_count": null,
      "outputs": [
        {
          "output_type": "stream",
          "text": [
            "Voice mail plan    No  Yes\n",
            "Churn                     \n",
            "False            2008  842\n",
            "True              403   80\n",
            "The % of people with TRUE churning with voice plan activated 16.56 %\n",
            "The % of people with FALSE churning with voice plan activated 29.54 %\n"
          ],
          "name": "stdout"
        }
      ]
    },
    {
      "cell_type": "code",
      "metadata": {
        "colab": {
          "base_uri": "https://localhost:8080/",
          "height": 382
        },
        "id": "BVghauojQjYC",
        "outputId": "e94fc009-9763-4e6f-e444-f4eef1c50fb4"
      },
      "source": [
        "plt.rcParams['figure.figsize'] = (10, 5)\n",
        "df4.unstack().plot(kind='bar')\n",
        "plt.title('Voice mail plan vs Churn')\n",
        "plt.xlabel('Churn')\n",
        "plt.ylabel('voice mail plan no')"
      ],
      "execution_count": null,
      "outputs": [
        {
          "output_type": "execute_result",
          "data": {
            "text/plain": [
              "Text(0, 0.5, 'voice mail plan no')"
            ]
          },
          "metadata": {
            "tags": []
          },
          "execution_count": 42
        },
        {
          "output_type": "display_data",
          "data": {
            "image/png": "[encoded data removed]",
            "text/plain": [
              "<Figure size 720x360 with 1 Axes>"
            ]
          },
          "metadata": {
            "tags": [],
            "needs_background": "light"
          }
        }
      ]
    },
    {
      "cell_type": "markdown",
      "metadata": {
        "id": "yz1cSp5NSQfY"
      },
      "source": [
        "**6. Vmail msg vs churn**"
      ]
    },
    {
      "cell_type": "code",
      "metadata": {
        "colab": {
          "base_uri": "https://localhost:8080/"
        },
        "id": "Q-6_RWmASVqw",
        "outputId": "72816c1b-f037-4aaf-b992-cbd2cd34875a"
      },
      "source": [
        "# avg no of Vmail msgs in True anf false churn:\n",
        "df5 = df.groupby(['Churn'])['Number vmail messages'].mean()\n",
        "df5"
      ],
      "execution_count": null,
      "outputs": [
        {
          "output_type": "execute_result",
          "data": {
            "text/plain": [
              "Churn\n",
              "False    8.604561\n",
              "True     5.115942\n",
              "Name: Number vmail messages, dtype: float64"
            ]
          },
          "metadata": {
            "tags": []
          },
          "execution_count": 43
        }
      ]
    },
    {
      "cell_type": "code",
      "metadata": {
        "colab": {
          "base_uri": "https://localhost:8080/",
          "height": 382
        },
        "id": "6Fc1lMOxSrng",
        "outputId": "24fbc3ee-23b4-4ea7-9e56-d582e4e69576"
      },
      "source": [
        "plt.rcParams['figure.figsize'] = (10, 5)\n",
        "df5.plot(kind='bar')\n",
        "plt.title('Number vmail message vs churn')\n",
        "plt.xlabel('churn')\n",
        "plt.ylabel('Number vmail message')"
      ],
      "execution_count": null,
      "outputs": [
        {
          "output_type": "execute_result",
          "data": {
            "text/plain": [
              "Text(0, 0.5, 'Number vmail message')"
            ]
          },
          "metadata": {
            "tags": []
          },
          "execution_count": 44
        },
        {
          "output_type": "display_data",
          "data": {
            "image/png": "[encoded data removed]",
            "text/plain": [
              "<Figure size 720x360 with 1 Axes>"
            ]
          },
          "metadata": {
            "tags": [],
            "needs_background": "light"
          }
        }
      ]
    },
    {
      "cell_type": "markdown",
      "metadata": {
        "id": "k9Jy9ObPTPi1"
      },
      "source": [
        "**7. International plan vs churning**"
      ]
    },
    {
      "cell_type": "code",
      "metadata": {
        "colab": {
          "base_uri": "https://localhost:8080/"
        },
        "id": "NqzxfWl7TUOW",
        "outputId": "54e25eef-08ad-4b2e-c6a2-2ef93456e6e7"
      },
      "source": [
        "df6 = df.groupby(['Churn','International plan'])['International plan'].count()\n",
        "df6.unstack()\n",
        "\n",
        "# people having intl plan with false churning:\n",
        "\n",
        "percent_false_intl = (df6.loc[False,'Yes']/df6.loc[False].sum())*100\n",
        "print('The % of customers with false churning having intl plan is', round(percent_false_intl,2),'%')\n",
        "\n",
        "# people having intl plan with true churning:\n",
        "\n",
        "percent_true_intl  = (df6.loc[True,'Yes']/df6.loc[True].sum())*100\n",
        "print('The % of customers with true churning having intl plan is',round(percent_true_intl,2),'%')\n"
      ],
      "execution_count": null,
      "outputs": [
        {
          "output_type": "stream",
          "text": [
            "The % of customers with false churning having intl plan is 6.53 %\n",
            "The % of customers with true churning having intl plan is 28.36 %\n"
          ],
          "name": "stdout"
        }
      ]
    },
    {
      "cell_type": "code",
      "metadata": {
        "colab": {
          "base_uri": "https://localhost:8080/",
          "height": 382
        },
        "id": "PNYBOxW3TWNG",
        "outputId": "4b6a100c-2733-415e-ba70-cb684342f4e2"
      },
      "source": [
        "plt.rcParams['figure.figsize'] = (10, 5)\n",
        "df6.unstack().plot(kind='bar')\n",
        "plt.title('International plan vs churn')\n",
        "plt.xlabel('churn')\n",
        "plt.ylabel('International plan')"
      ],
      "execution_count": null,
      "outputs": [
        {
          "output_type": "execute_result",
          "data": {
            "text/plain": [
              "Text(0, 0.5, 'International plan')"
            ]
          },
          "metadata": {
            "tags": []
          },
          "execution_count": 55
        },
        {
          "output_type": "display_data",
          "data": {
            "image/png": "[encoded data removed]",
            "text/plain": [
              "<Figure size 720x360 with 1 Axes>"
            ]
          },
          "metadata": {
            "tags": [],
            "needs_background": "light"
          }
        }
      ]
    },
    {
      "cell_type": "markdown",
      "metadata": {
        "id": "EctSF67OWIkU"
      },
      "source": [
        "**8. Total day/night/eve/intl mins with respect to churn**"
      ]
    },
    {
      "cell_type": "code",
      "metadata": {
        "colab": {
          "base_uri": "https://localhost:8080/",
          "height": 141
        },
        "id": "G0CPZFFZWH3-",
        "outputId": "7a77bf4f-d4b0-45f9-9f71-37501d96fee2"
      },
      "source": [
        "# new_df = df.groupby(['Churn']).agg({'Total day minutes':'sum','Total eve minutes':'sum','Total night minutes':'sum','Total intl minutes':'sum'})\n",
        "# new_df = df.groupby(['Churn']).agg({'Total day minutes':'mean','Total eve minutes':'mean','Total night minutes':'mean','Total intl minutes':'mean'})\n",
        "new_df = df.groupby(['Churn']).agg({'Total day minutes':'median','Total eve minutes':'median','Total night minutes':'median','Total intl minutes':'median'})\n",
        "\n",
        "new_df"
      ],
      "execution_count": 31,
      "outputs": [
        {
          "output_type": "execute_result",
          "data": {
            "text/html": [
              "<div>\n",
              "<style scoped>\n",
              "    .dataframe tbody tr th:only-of-type {\n",
              "        vertical-align: middle;\n",
              "    }\n",
              "\n",
              "    .dataframe tbody tr th {\n",
              "        vertical-align: top;\n",
              "    }\n",
              "\n",
              "    .dataframe thead th {\n",
              "        text-align: right;\n",
              "    }\n",
              "</style>\n",
              "<table border=\"1\" class=\"dataframe\">\n",
              "  <thead>\n",
              "    <tr style=\"text-align: right;\">\n",
              "      <th></th>\n",
              "      <th>Total day minutes</th>\n",
              "      <th>Total eve minutes</th>\n",
              "      <th>Total night minutes</th>\n",
              "      <th>Total intl minutes</th>\n",
              "    </tr>\n",
              "    <tr>\n",
              "      <th>Churn</th>\n",
              "      <th></th>\n",
              "      <th></th>\n",
              "      <th></th>\n",
              "      <th></th>\n",
              "    </tr>\n",
              "  </thead>\n",
              "  <tbody>\n",
              "    <tr>\n",
              "      <th>False</th>\n",
              "      <td>177.2</td>\n",
              "      <td>199.6</td>\n",
              "      <td>200.25</td>\n",
              "      <td>10.2</td>\n",
              "    </tr>\n",
              "    <tr>\n",
              "      <th>True</th>\n",
              "      <td>217.6</td>\n",
              "      <td>211.3</td>\n",
              "      <td>204.80</td>\n",
              "      <td>10.6</td>\n",
              "    </tr>\n",
              "  </tbody>\n",
              "</table>\n",
              "</div>"
            ],
            "text/plain": [
              "       Total day minutes  ...  Total intl minutes\n",
              "Churn                     ...                    \n",
              "False              177.2  ...                10.2\n",
              "True               217.6  ...                10.6\n",
              "\n",
              "[2 rows x 4 columns]"
            ]
          },
          "metadata": {
            "tags": []
          },
          "execution_count": 31
        }
      ]
    },
    {
      "cell_type": "code",
      "metadata": {
        "colab": {
          "base_uri": "https://localhost:8080/",
          "height": 382
        },
        "id": "gD1ZDlrzWH0X",
        "outputId": "41a240dc-50b5-48cc-b562-e908cc2f1bd0"
      },
      "source": [
        "plt.rcParams['figure.figsize'] = (10, 5)\n",
        "new_df.plot(kind='bar')\n",
        "plt.title('Customer service calls')\n",
        "plt.ylabel('Total number of calls')\n",
        "plt.xlabel('Churn-True')\n"
      ],
      "execution_count": 30,
      "outputs": [
        {
          "output_type": "execute_result",
          "data": {
            "text/plain": [
              "Text(0.5, 0, 'Churn-True')"
            ]
          },
          "metadata": {
            "tags": []
          },
          "execution_count": 30
        },
        {
          "output_type": "display_data",
          "data": {
            "image/png": "[encoded data removed]",
            "text/plain": [
              "<Figure size 720x360 with 1 Axes>"
            ]
          },
          "metadata": {
            "tags": [],
            "needs_background": "light"
          }
        }
      ]
    },
    {
      "cell_type": "code",
      "metadata": {
        "id": "iwLAbxAQWHyB"
      },
      "source": [
        "df8 = df[(df['Churn']==True) & (df['Customer service calls'] > 3)]\n",
        "# df8[df8['Total night minutes']>204].value_counts()"
      ],
      "execution_count": 51,
      "outputs": []
    },
    {
      "cell_type": "code",
      "metadata": {
        "colab": {
          "base_uri": "https://localhost:8080/",
          "height": 235
        },
        "id": "5k0GJcxk4wjS",
        "outputId": "8a54a6c9-0a04-499e-de65-db2e6129ea5c"
      },
      "source": [
        "df8.head()\n"
      ],
      "execution_count": 52,
      "outputs": [
        {
          "output_type": "execute_result",
          "data": {
            "text/html": [
              "<div>\n",
              "<style scoped>\n",
              "    .dataframe tbody tr th:only-of-type {\n",
              "        vertical-align: middle;\n",
              "    }\n",
              "\n",
              "    .dataframe tbody tr th {\n",
              "        vertical-align: top;\n",
              "    }\n",
              "\n",
              "    .dataframe thead th {\n",
              "        text-align: right;\n",
              "    }\n",
              "</style>\n",
              "<table border=\"1\" class=\"dataframe\">\n",
              "  <thead>\n",
              "    <tr style=\"text-align: right;\">\n",
              "      <th></th>\n",
              "      <th>State</th>\n",
              "      <th>Account length</th>\n",
              "      <th>Area code</th>\n",
              "      <th>International plan</th>\n",
              "      <th>Voice mail plan</th>\n",
              "      <th>Number vmail messages</th>\n",
              "      <th>Total day minutes</th>\n",
              "      <th>Total day calls</th>\n",
              "      <th>Total day charge</th>\n",
              "      <th>Total eve minutes</th>\n",
              "      <th>Total eve calls</th>\n",
              "      <th>Total eve charge</th>\n",
              "      <th>Total night minutes</th>\n",
              "      <th>Total night calls</th>\n",
              "      <th>Total night charge</th>\n",
              "      <th>Total intl minutes</th>\n",
              "      <th>Total intl calls</th>\n",
              "      <th>Total intl charge</th>\n",
              "      <th>Customer service calls</th>\n",
              "      <th>Churn</th>\n",
              "    </tr>\n",
              "  </thead>\n",
              "  <tbody>\n",
              "    <tr>\n",
              "      <th>10</th>\n",
              "      <td>IN</td>\n",
              "      <td>65</td>\n",
              "      <td>415</td>\n",
              "      <td>No</td>\n",
              "      <td>No</td>\n",
              "      <td>0</td>\n",
              "      <td>129.1</td>\n",
              "      <td>137</td>\n",
              "      <td>21.95</td>\n",
              "      <td>228.5</td>\n",
              "      <td>83</td>\n",
              "      <td>19.42</td>\n",
              "      <td>208.8</td>\n",
              "      <td>111</td>\n",
              "      <td>9.40</td>\n",
              "      <td>12.7</td>\n",
              "      <td>6</td>\n",
              "      <td>3.43</td>\n",
              "      <td>4</td>\n",
              "      <td>True</td>\n",
              "    </tr>\n",
              "    <tr>\n",
              "      <th>15</th>\n",
              "      <td>NY</td>\n",
              "      <td>161</td>\n",
              "      <td>415</td>\n",
              "      <td>No</td>\n",
              "      <td>No</td>\n",
              "      <td>0</td>\n",
              "      <td>332.9</td>\n",
              "      <td>67</td>\n",
              "      <td>56.59</td>\n",
              "      <td>317.8</td>\n",
              "      <td>97</td>\n",
              "      <td>27.01</td>\n",
              "      <td>160.6</td>\n",
              "      <td>128</td>\n",
              "      <td>7.23</td>\n",
              "      <td>5.4</td>\n",
              "      <td>9</td>\n",
              "      <td>1.46</td>\n",
              "      <td>4</td>\n",
              "      <td>True</td>\n",
              "    </tr>\n",
              "    <tr>\n",
              "      <th>21</th>\n",
              "      <td>CO</td>\n",
              "      <td>77</td>\n",
              "      <td>408</td>\n",
              "      <td>No</td>\n",
              "      <td>No</td>\n",
              "      <td>0</td>\n",
              "      <td>62.4</td>\n",
              "      <td>89</td>\n",
              "      <td>10.61</td>\n",
              "      <td>169.9</td>\n",
              "      <td>121</td>\n",
              "      <td>14.44</td>\n",
              "      <td>209.6</td>\n",
              "      <td>64</td>\n",
              "      <td>9.43</td>\n",
              "      <td>5.7</td>\n",
              "      <td>6</td>\n",
              "      <td>1.54</td>\n",
              "      <td>5</td>\n",
              "      <td>True</td>\n",
              "    </tr>\n",
              "    <tr>\n",
              "      <th>48</th>\n",
              "      <td>ID</td>\n",
              "      <td>119</td>\n",
              "      <td>415</td>\n",
              "      <td>No</td>\n",
              "      <td>No</td>\n",
              "      <td>0</td>\n",
              "      <td>159.1</td>\n",
              "      <td>114</td>\n",
              "      <td>27.05</td>\n",
              "      <td>231.3</td>\n",
              "      <td>117</td>\n",
              "      <td>19.66</td>\n",
              "      <td>143.2</td>\n",
              "      <td>91</td>\n",
              "      <td>6.44</td>\n",
              "      <td>8.8</td>\n",
              "      <td>3</td>\n",
              "      <td>2.38</td>\n",
              "      <td>5</td>\n",
              "      <td>True</td>\n",
              "    </tr>\n",
              "    <tr>\n",
              "      <th>54</th>\n",
              "      <td>WY</td>\n",
              "      <td>87</td>\n",
              "      <td>415</td>\n",
              "      <td>No</td>\n",
              "      <td>No</td>\n",
              "      <td>0</td>\n",
              "      <td>151.0</td>\n",
              "      <td>83</td>\n",
              "      <td>25.67</td>\n",
              "      <td>219.7</td>\n",
              "      <td>116</td>\n",
              "      <td>18.67</td>\n",
              "      <td>203.9</td>\n",
              "      <td>127</td>\n",
              "      <td>9.18</td>\n",
              "      <td>9.7</td>\n",
              "      <td>3</td>\n",
              "      <td>2.62</td>\n",
              "      <td>5</td>\n",
              "      <td>True</td>\n",
              "    </tr>\n",
              "  </tbody>\n",
              "</table>\n",
              "</div>"
            ],
            "text/plain": [
              "   State  Account length  ...  Customer service calls Churn\n",
              "10    IN              65  ...                       4  True\n",
              "15    NY             161  ...                       4  True\n",
              "21    CO              77  ...                       5  True\n",
              "48    ID             119  ...                       5  True\n",
              "54    WY              87  ...                       5  True\n",
              "\n",
              "[5 rows x 20 columns]"
            ]
          },
          "metadata": {
            "tags": []
          },
          "execution_count": 52
        }
      ]
    },
    {
      "cell_type": "code",
      "metadata": {
        "colab": {
          "base_uri": "https://localhost:8080/"
        },
        "id": "DzjfPpgg-FRM",
        "outputId": "5d950436-5d31-4f18-9cad-109a17530433"
      },
      "source": [
        "# df9 = df8.groupby(['Voice mail plan','State'])['Customer service calls'].count()\n",
        "# df9"
      ],
      "execution_count": 44,
      "outputs": [
        {
          "output_type": "execute_result",
          "data": {
            "text/plain": [
              "Voice mail plan  State\n",
              "No               AK        3\n",
              "                 AL        7\n",
              "                 AR       10\n",
              "                 AZ        4\n",
              "                 CA        7\n",
              "                          ..\n",
              "Yes              VT        1\n",
              "                 WA        1\n",
              "                 WI        1\n",
              "                 WV        2\n",
              "                 WY        1\n",
              "Name: Customer service calls, Length: 93, dtype: int64"
            ]
          },
          "metadata": {
            "tags": []
          },
          "execution_count": 44
        }
      ]
    },
    {
      "cell_type": "code",
      "metadata": {
        "id": "zzIZePmr-FMh"
      },
      "source": [
        ""
      ],
      "execution_count": null,
      "outputs": []
    },
    {
      "cell_type": "code",
      "metadata": {
        "colab": {
          "base_uri": "https://localhost:8080/",
          "height": 567
        },
        "id": "VCvjw00R-FOz",
        "outputId": "7f9890e1-7c25-44e0-de35-68961233ac0c"
      },
      "source": [
        "df9=df8.groupby(['Voice mail plan','State'])['Customer service calls'].sum()\n",
        "df9\n",
        "plt.rcParams['figure.figsize'] = (20, 8)\n",
        "ax = df9.plot.bar(stacked=True)\n",
        "ax\n",
        "plt.title('Customer service calls')\n",
        "plt.ylabel('Total number of calls')\n",
        "plt.xlabel('Churn-True')"
      ],
      "execution_count": 66,
      "outputs": [
        {
          "output_type": "execute_result",
          "data": {
            "text/plain": [
              "Text(0.5, 0, 'Churn-True')"
            ]
          },
          "metadata": {
            "tags": []
          },
          "execution_count": 66
        },
        {
          "output_type": "display_data",
          "data": {
            "image/png": "[encoded data removed]",
            "text/plain": [
              "<Figure size 1440x576 with 1 Axes>"
            ]
          },
          "metadata": {
            "tags": [],
            "needs_background": "light"
          }
        }
      ]
    },
    {
      "cell_type": "code",
      "metadata": {
        "id": "eyKlXjWq-FJD"
      },
      "source": [
        ""
      ],
      "execution_count": null,
      "outputs": []
    },
    {
      "cell_type": "code",
      "metadata": {
        "id": "N-aZn-TX-FGT"
      },
      "source": [
        ""
      ],
      "execution_count": null,
      "outputs": []
    },
    {
      "cell_type": "code",
      "metadata": {
        "id": "Q312vjA04wgQ"
      },
      "source": [
        ""
      ],
      "execution_count": null,
      "outputs": []
    },
    {
      "cell_type": "markdown",
      "metadata": {
        "id": "ojOFvj04VpkY"
      },
      "source": [
        "1. Statewise churning counts - done\n",
        "2. Statewise cutome service calls - \n",
        "3. Intl plan vs churning - done\n",
        "4. voice mail plan vs churning - done\n",
        "5. customer service calls vs churning - ( Rate of Churning ) - done\n",
        "6. reasons of churning in top 10 states - \n",
        "7. call charges for day/ night/ eve - \n",
        "8. avg call charges/mins - \n",
        "9. "
      ]
    }
  ]
}